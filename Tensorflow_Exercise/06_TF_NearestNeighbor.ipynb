{
 "cells": [
  {
   "cell_type": "markdown",
   "metadata": {},
   "source": [
    "# Nearest Neighbor in TensorFlow"
   ]
  },
  {
   "cell_type": "code",
   "execution_count": 1,
   "metadata": {
    "collapsed": true
   },
   "outputs": [],
   "source": [
    "import numpy as np\n",
    "import tensorflow as tf"
   ]
  },
  {
   "cell_type": "code",
   "execution_count": 2,
   "metadata": {
    "collapsed": false
   },
   "outputs": [
    {
     "name": "stdout",
     "output_type": "stream",
     "text": [
      "Extracting MNIST_data/train-images-idx3-ubyte.gz\n",
      "Extracting MNIST_data/train-labels-idx1-ubyte.gz\n",
      "Extracting MNIST_data/t10k-images-idx3-ubyte.gz\n",
      "Extracting MNIST_data/t10k-labels-idx1-ubyte.gz\n"
     ]
    }
   ],
   "source": [
    "from tensorflow.examples.tutorials.mnist import input_data\n",
    "mnist = input_data.read_data_sets(\"MNIST_data/\", one_hot=True)"
   ]
  },
  {
   "cell_type": "code",
   "execution_count": 5,
   "metadata": {
    "collapsed": true
   },
   "outputs": [],
   "source": [
    "# In this example, we limit mnist data\n",
    "Xtr, Ytr = mnist.train.next_batch(5000) #5000 for training (nn candidates)\n",
    "Xte, Yte = mnist.test.next_batch(200)   #200 for testing"
   ]
  },
  {
   "cell_type": "code",
   "execution_count": 9,
   "metadata": {
    "collapsed": false
   },
   "outputs": [
    {
     "data": {
      "text/plain": [
       "(5000, 784)"
      ]
     },
     "execution_count": 9,
     "metadata": {},
     "output_type": "execute_result"
    }
   ],
   "source": [
    "Xtr.shape"
   ]
  },
  {
   "cell_type": "code",
   "execution_count": 6,
   "metadata": {
    "collapsed": false
   },
   "outputs": [],
   "source": [
    "# tf Graph Input\n",
    "xtr = tf.placeholder(\"float\", [None, 784])\n",
    "xte = tf.placeholder(\"float\", [784])\n",
    "\n",
    "# Nearest Neighbor calculation using L1 Distance\n",
    "# Calculate L1 Distance\n",
    "distance = tf.reduce_sum(tf.abs(tf.add(xtr, tf.negative(xte))), \n",
    "                         reduction_indices=1)\n",
    "# Predict: Get min distance index (Nearest neighbor)\n",
    "pred = tf.argmin(distance, 0)\n",
    "\n",
    "accuracy = 0.\n",
    "\n",
    "# Initializing the variables (i.e. assign their default value)\n",
    "init = tf.global_variables_initializer()"
   ]
  },
  {
   "cell_type": "code",
   "execution_count": 7,
   "metadata": {
    "collapsed": false
   },
   "outputs": [
    {
     "name": "stdout",
     "output_type": "stream",
     "text": [
      "Test 0 Prediction: 5 True Class: 5\n",
      "Test 10 Prediction: 9 True Class: 4\n",
      "Test 20 Prediction: 1 True Class: 1\n",
      "Test 30 Prediction: 6 True Class: 6\n",
      "Test 40 Prediction: 3 True Class: 2\n",
      "Test 50 Prediction: 5 True Class: 8\n",
      "Test 60 Prediction: 5 True Class: 5\n",
      "Test 70 Prediction: 9 True Class: 9\n",
      "Test 80 Prediction: 5 True Class: 5\n",
      "Test 90 Prediction: 9 True Class: 9\n",
      "Test 100 Prediction: 2 True Class: 2\n",
      "Test 110 Prediction: 9 True Class: 9\n",
      "Test 120 Prediction: 0 True Class: 0\n",
      "Test 130 Prediction: 9 True Class: 9\n",
      "Test 140 Prediction: 0 True Class: 0\n",
      "Test 150 Prediction: 3 True Class: 3\n",
      "Test 160 Prediction: 2 True Class: 2\n",
      "Test 170 Prediction: 5 True Class: 5\n",
      "Test 180 Prediction: 3 True Class: 3\n",
      "Test 190 Prediction: 1 True Class: 1\n",
      "Done!\n",
      "Accuracy: 0.89\n"
     ]
    }
   ],
   "source": [
    "# Launch the graph\n",
    "with tf.Session() as sess:\n",
    "    sess.run(init)\n",
    "\n",
    "    # loop over test data\n",
    "    for i in range(len(Xte)):\n",
    "        # Get nearest neighbor\n",
    "        nn_index = sess.run(pred, feed_dict={xtr: Xtr, xte: Xte[i,:]})\n",
    "        \n",
    "        # Get nearest neighbor class label and compare it to its true label\n",
    "        if i % 10 == 0:\n",
    "            print(\"Test\", i, \"Prediction:\", np.argmax(Ytr[nn_index]), \\\n",
    "                  \"True Class:\", np.argmax(Yte[i]))\n",
    "            \n",
    "            #print(\"\\nnn_index :\", nn_index) \n",
    "            #print(\"Ytr[nn_index] :\", Ytr[nn_index])\n",
    "            #print(\"np.argmax(Ytr[nn_index]) :\", np.argmax(Ytr[nn_index]))\n",
    "        \n",
    "        # Calculate accuracy\n",
    "        if np.argmax(Ytr[nn_index]) == np.argmax(Yte[i]):\n",
    "            accuracy += 1./len(Xte)\n",
    "                  \n",
    "    print(\"Done!\")\n",
    "    print(\"Accuracy:\", round(accuracy,2))"
   ]
  },
  {
   "cell_type": "raw",
   "metadata": {
    "collapsed": true
   },
   "source": [
    "Test 0 Prediction: 7 True Class: 7\n",
    "\n",
    "nn_index : 4444\n",
    "Ytr[nn_index] : [ 0.  0.  0.  0.  0.  0.  0.  1.  0.  0.]\n",
    "np.argmax(Ytr[nn_index]) : 7\n",
    "\n",
    "Test 1 Prediction: 2 True Class: 2\n",
    "\n",
    "nn_index : 816\n",
    "Ytr[nn_index] : [ 0.  0.  1.  0.  0.  0.  0.  0.  0.  0.]\n",
    "np.argmax(Ytr[nn_index]) : 2\n",
    "\n",
    "..."
   ]
  }
 ],
 "metadata": {
  "anaconda-cloud": {},
  "kernelspec": {
   "display_name": "Python [default]",
   "language": "python",
   "name": "python3"
  },
  "language_info": {
   "codemirror_mode": {
    "name": "ipython",
    "version": 3
   },
   "file_extension": ".py",
   "mimetype": "text/x-python",
   "name": "python",
   "nbconvert_exporter": "python",
   "pygments_lexer": "ipython3",
   "version": "3.5.2"
  }
 },
 "nbformat": 4,
 "nbformat_minor": 0
}
