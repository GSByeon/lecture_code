{
 "cells": [
  {
   "cell_type": "markdown",
   "metadata": {
    "collapsed": true
   },
   "source": [
    "# Logistic Regression in TensorFlow"
   ]
  },
  {
   "cell_type": "code",
   "execution_count": 1,
   "metadata": {
    "collapsed": true
   },
   "outputs": [],
   "source": [
    "import tensorflow as tf"
   ]
  },
  {
   "cell_type": "code",
   "execution_count": 2,
   "metadata": {
    "collapsed": false
   },
   "outputs": [
    {
     "name": "stdout",
     "output_type": "stream",
     "text": [
      "Successfully downloaded train-images-idx3-ubyte.gz 9912422 bytes.\n",
      "Extracting MNIST_data/train-images-idx3-ubyte.gz\n",
      "Successfully downloaded train-labels-idx1-ubyte.gz 28881 bytes.\n",
      "Extracting MNIST_data/train-labels-idx1-ubyte.gz\n",
      "Successfully downloaded t10k-images-idx3-ubyte.gz 1648877 bytes.\n",
      "Extracting MNIST_data/t10k-images-idx3-ubyte.gz\n",
      "Successfully downloaded t10k-labels-idx1-ubyte.gz 4542 bytes.\n",
      "Extracting MNIST_data/t10k-labels-idx1-ubyte.gz\n"
     ]
    }
   ],
   "source": [
    "from tensorflow.examples.tutorials.mnist import input_data\n",
    "mnist = input_data.read_data_sets(\"MNIST_data/\", one_hot=True)"
   ]
  },
  {
   "cell_type": "code",
   "execution_count": 3,
   "metadata": {
    "collapsed": true
   },
   "outputs": [],
   "source": [
    "# Parameters\n",
    "learning_rate = 0.01\n",
    "training_epochs = 25\n",
    "batch_size = 100\n",
    "display_step = 1"
   ]
  },
  {
   "cell_type": "code",
   "execution_count": 4,
   "metadata": {
    "collapsed": true
   },
   "outputs": [],
   "source": [
    "# tf Graph Input\n",
    "x = tf.placeholder(\"float\", [None, 784]) # mnist data image of shape 28*28=784\n",
    "y = tf.placeholder(\"float\", [None, 10]) # 0-9 digits recognition => 10 classes"
   ]
  },
  {
   "cell_type": "code",
   "execution_count": 5,
   "metadata": {
    "collapsed": true
   },
   "outputs": [],
   "source": [
    "# Create model\n",
    "\n",
    "# Set model weights\n",
    "W = tf.Variable(tf.zeros([784, 10]))\n",
    "b = tf.Variable(tf.zeros([10]))"
   ]
  },
  {
   "cell_type": "code",
   "execution_count": 6,
   "metadata": {
    "collapsed": true
   },
   "outputs": [],
   "source": [
    "# Construct model\n",
    "pred = tf.nn.softmax(tf.matmul(x, W) + b) # Softmax"
   ]
  },
  {
   "cell_type": "code",
   "execution_count": 7,
   "metadata": {
    "collapsed": true
   },
   "outputs": [],
   "source": [
    "# Minimize error using cross entropy\n",
    "\n",
    "# Cross entropy\n",
    "cost = tf.reduce_mean( -tf.reduce_sum(y*tf.log(pred), reduction_indices=1) )\n",
    "\n",
    "# Gradient Descent\n",
    "optimizer = tf.train.GradientDescentOptimizer(learning_rate).minimize(cost) "
   ]
  },
  {
   "cell_type": "code",
   "execution_count": 8,
   "metadata": {
    "collapsed": true
   },
   "outputs": [],
   "source": [
    "# Initializing the variables\n",
    "init = tf.global_variables_initializer()"
   ]
  },
  {
   "cell_type": "code",
   "execution_count": 9,
   "metadata": {
    "collapsed": false
   },
   "outputs": [
    {
     "name": "stdout",
     "output_type": "stream",
     "text": [
      "Epoch: 0001 cost= 1.175765760\n",
      "Epoch: 0002 cost= 0.662211569\n",
      "Epoch: 0003 cost= 0.550528342\n",
      "Epoch: 0004 cost= 0.496682484\n",
      "Epoch: 0005 cost= 0.463698466\n",
      "Epoch: 0006 cost= 0.440892180\n",
      "Epoch: 0007 cost= 0.423977649\n",
      "Epoch: 0008 cost= 0.410613063\n",
      "Epoch: 0009 cost= 0.399908744\n",
      "Epoch: 0010 cost= 0.390926166\n",
      "Epoch: 0011 cost= 0.383335643\n",
      "Epoch: 0012 cost= 0.376794658\n",
      "Epoch: 0013 cost= 0.371020695\n",
      "Epoch: 0014 cost= 0.365888950\n",
      "Epoch: 0015 cost= 0.361368662\n",
      "Epoch: 0016 cost= 0.357248354\n",
      "Epoch: 0017 cost= 0.353573571\n",
      "Epoch: 0018 cost= 0.350168565\n",
      "Epoch: 0019 cost= 0.347024083\n",
      "Epoch: 0020 cost= 0.344156632\n",
      "Epoch: 0021 cost= 0.341527212\n",
      "Epoch: 0022 cost= 0.338988009\n",
      "Epoch: 0023 cost= 0.336679159\n",
      "Epoch: 0024 cost= 0.334483589\n",
      "Epoch: 0025 cost= 0.332441212\n",
      "Optimization Finished!\n",
      "Accuracy: 0.9148\n"
     ]
    }
   ],
   "source": [
    "# Launch the graph\n",
    "with tf.Session() as sess:\n",
    "    sess.run(init)\n",
    "\n",
    "    # Training cycle\n",
    "    for epoch in range(training_epochs):\n",
    "        avg_cost = 0.\n",
    "        total_batch = int(mnist.train.num_examples/batch_size)\n",
    "        # Loop over all batches\n",
    "        for i in range(total_batch):\n",
    "            batch_xs, batch_ys = mnist.train.next_batch(batch_size)\n",
    "            # Fit training using batch data\n",
    "            sess.run(optimizer, feed_dict={x: batch_xs, y: batch_ys})\n",
    "            # Compute average loss\n",
    "            avg_cost += sess.run(cost, feed_dict={x: batch_xs, y: batch_ys})/total_batch\n",
    "        # Display logs per epoch step\n",
    "        if epoch % display_step == 0:\n",
    "            print(\"Epoch:\", '%04d' % (epoch+1), \"cost=\", \"{:.9f}\".format(avg_cost))\n",
    "\n",
    "    print(\"Optimization Finished!\")\n",
    "\n",
    "    # Test model\n",
    "    correct_prediction = tf.equal(tf.argmax(pred, 1), tf.argmax(y, 1))\n",
    "    # Calculate accuracy\n",
    "    accuracy = tf.reduce_mean(tf.cast(correct_prediction, \"float\"))\n",
    "    print(\"Accuracy:\", accuracy.eval({x: mnist.test.images, y: mnist.test.labels}))"
   ]
  },
  {
   "cell_type": "markdown",
   "metadata": {},
   "source": [
    "## Cross entropy Cost\n"
   ]
  },
  {
   "cell_type": "code",
   "execution_count": 10,
   "metadata": {
    "collapsed": true
   },
   "outputs": [],
   "source": [
    "%matplotlib inline\n",
    "import matplotlib.pyplot as plt\n",
    "import numpy as np"
   ]
  },
  {
   "cell_type": "code",
   "execution_count": 11,
   "metadata": {
    "collapsed": true
   },
   "outputs": [],
   "source": [
    "x = np.linspace(0, 1, 1000) + 1e-10"
   ]
  },
  {
   "cell_type": "code",
   "execution_count": 12,
   "metadata": {
    "collapsed": false
   },
   "outputs": [
    {
     "data": {
      "image/png": "[encoded data removed]",
      "text/plain": [
       "<matplotlib.figure.Figure at 0x13276f6d8>"
      ]
     },
     "metadata": {},
     "output_type": "display_data"
    }
   ],
   "source": [
    "plt.plot(x, -np.log(x));"
   ]
  },
  {
   "cell_type": "markdown",
   "metadata": {},
   "source": [
    "$$-\\sum_i{L_i\\log(\\hat{y}_i)} => \\sum_i{L_i \\times -\\log(\\hat{y}_i)}$$\n",
    "\n",
    "\n",
    "$L = \\begin{bmatrix}  0\\\\1  \\end{bmatrix}$\n",
    "\n",
    "$\\hat{Y} = \\begin{bmatrix}  0\\\\1  \\end{bmatrix},\\quad \\begin{bmatrix}  0\\\\1  \\end{bmatrix} \\cdot -\\log{\\begin{bmatrix}  0\\\\1  \\end{bmatrix}} = \\begin{bmatrix}  0\\\\1  \\end{bmatrix} \\cdot {\\begin{bmatrix}  \\infty\\\\0  \\end{bmatrix}} = \\begin{bmatrix}  0\\\\0  \\end{bmatrix} = 0,\\quad cost=0$\n",
    "\n",
    "$\\hat{Y} = \\begin{bmatrix}  1\\\\0  \\end{bmatrix},\\quad \\begin{bmatrix}  0\\\\1  \\end{bmatrix} \\cdot -\\log{\\begin{bmatrix}  1\\\\0  \\end{bmatrix}} = \\begin{bmatrix}  0\\\\1  \\end{bmatrix} \\cdot {\\begin{bmatrix}  0\\\\ \\infty  \\end{bmatrix}} = \\begin{bmatrix}  0\\\\ \\infty  \\end{bmatrix} = \\infty,\\quad cost=\\infty$"
   ]
  },
  {
   "cell_type": "code",
   "execution_count": null,
   "metadata": {
    "collapsed": true
   },
   "outputs": [],
   "source": []
  }
 ],
 "metadata": {
  "anaconda-cloud": {},
  "kernelspec": {
   "display_name": "Python [default]",
   "language": "python",
   "name": "python3"
  },
  "language_info": {
   "codemirror_mode": {
    "name": "ipython",
    "version": 3
   },
   "file_extension": ".py",
   "mimetype": "text/x-python",
   "name": "python",
   "nbconvert_exporter": "python",
   "pygments_lexer": "ipython3",
   "version": "3.5.2"
  }
 },
 "nbformat": 4,
 "nbformat_minor": 0
}
