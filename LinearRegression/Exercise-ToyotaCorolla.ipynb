{
 "cells": [
  {
   "cell_type": "code",
   "execution_count": 1,
   "metadata": {
    "collapsed": true
   },
   "outputs": [],
   "source": [
    "%matplotlib inline\n",
    "# 분석에 필요한 패키지 불러오기\n",
    "import numpy as np\n",
    "import pandas as pd\n",
    "from sklearn.model_selection import train_test_split\n",
    "from sklearn import metrics\n",
    "import statsmodels.api as sm\n",
    "import scipy.stats as stats\n",
    "from statsmodels.stats import outliers_influence\n",
    "import itertools\n",
    "import time\n",
    "import matplotlib.pyplot as plt"
   ]
  },
  {
   "cell_type": "markdown",
   "metadata": {},
   "source": [
    "# 데이터 불러오기"
   ]
  },
  {
   "cell_type": "code",
   "execution_count": 10,
   "metadata": {
    "collapsed": false,
    "scrolled": false
   },
   "outputs": [
    {
     "data": {
      "text/html": [
       "<div>\n",
       "<table border=\"1\" class=\"dataframe\">\n",
       "  <thead>\n",
       "    <tr style=\"text-align: right;\">\n",
       "      <th></th>\n",
       "      <th>Id</th>\n",
       "      <th>Model</th>\n",
       "      <th>Price</th>\n",
       "      <th>Age_08_04</th>\n",
       "      <th>Mfg_Month</th>\n",
       "      <th>Mfg_Year</th>\n",
       "      <th>KM</th>\n",
       "      <th>Fuel_Type</th>\n",
       "      <th>HP</th>\n",
       "      <th>Met_Color</th>\n",
       "      <th>...</th>\n",
       "      <th>Central_Lock</th>\n",
       "      <th>Powered_Windows</th>\n",
       "      <th>Power_Steering</th>\n",
       "      <th>Radio</th>\n",
       "      <th>Mistlamps</th>\n",
       "      <th>Sport_Model</th>\n",
       "      <th>Backseat_Divider</th>\n",
       "      <th>Metallic_Rim</th>\n",
       "      <th>Radio_cassette</th>\n",
       "      <th>Tow_Bar</th>\n",
       "    </tr>\n",
       "  </thead>\n",
       "  <tbody>\n",
       "    <tr>\n",
       "      <th>0</th>\n",
       "      <td>1</td>\n",
       "      <td>TOYOTA Corolla 2.0 D4D HATCHB TERRA 2/3-Doors</td>\n",
       "      <td>13500</td>\n",
       "      <td>23</td>\n",
       "      <td>10</td>\n",
       "      <td>2002</td>\n",
       "      <td>46986</td>\n",
       "      <td>Diesel</td>\n",
       "      <td>90</td>\n",
       "      <td>1</td>\n",
       "      <td>...</td>\n",
       "      <td>1</td>\n",
       "      <td>1</td>\n",
       "      <td>1</td>\n",
       "      <td>0</td>\n",
       "      <td>0</td>\n",
       "      <td>0</td>\n",
       "      <td>1</td>\n",
       "      <td>0</td>\n",
       "      <td>0</td>\n",
       "      <td>0</td>\n",
       "    </tr>\n",
       "    <tr>\n",
       "      <th>1</th>\n",
       "      <td>2</td>\n",
       "      <td>TOYOTA Corolla 2.0 D4D HATCHB TERRA 2/3-Doors</td>\n",
       "      <td>13750</td>\n",
       "      <td>23</td>\n",
       "      <td>10</td>\n",
       "      <td>2002</td>\n",
       "      <td>72937</td>\n",
       "      <td>Diesel</td>\n",
       "      <td>90</td>\n",
       "      <td>1</td>\n",
       "      <td>...</td>\n",
       "      <td>1</td>\n",
       "      <td>0</td>\n",
       "      <td>1</td>\n",
       "      <td>0</td>\n",
       "      <td>0</td>\n",
       "      <td>0</td>\n",
       "      <td>1</td>\n",
       "      <td>0</td>\n",
       "      <td>0</td>\n",
       "      <td>0</td>\n",
       "    </tr>\n",
       "    <tr>\n",
       "      <th>2</th>\n",
       "      <td>3</td>\n",
       "      <td>?TOYOTA Corolla 2.0 D4D HATCHB TERRA 2/3-Doors</td>\n",
       "      <td>13950</td>\n",
       "      <td>24</td>\n",
       "      <td>9</td>\n",
       "      <td>2002</td>\n",
       "      <td>41711</td>\n",
       "      <td>Diesel</td>\n",
       "      <td>90</td>\n",
       "      <td>1</td>\n",
       "      <td>...</td>\n",
       "      <td>0</td>\n",
       "      <td>0</td>\n",
       "      <td>1</td>\n",
       "      <td>0</td>\n",
       "      <td>0</td>\n",
       "      <td>0</td>\n",
       "      <td>1</td>\n",
       "      <td>0</td>\n",
       "      <td>0</td>\n",
       "      <td>0</td>\n",
       "    </tr>\n",
       "  </tbody>\n",
       "</table>\n",
       "<p>3 rows × 37 columns</p>\n",
       "</div>"
      ],
      "text/plain": [
       "   Id                                           Model  Price  Age_08_04  \\\n",
       "0   1   TOYOTA Corolla 2.0 D4D HATCHB TERRA 2/3-Doors  13500         23   \n",
       "1   2   TOYOTA Corolla 2.0 D4D HATCHB TERRA 2/3-Doors  13750         23   \n",
       "2   3  ?TOYOTA Corolla 2.0 D4D HATCHB TERRA 2/3-Doors  13950         24   \n",
       "\n",
       "   Mfg_Month  Mfg_Year     KM Fuel_Type  HP  Met_Color   ...     Central_Lock  \\\n",
       "0         10      2002  46986    Diesel  90          1   ...                1   \n",
       "1         10      2002  72937    Diesel  90          1   ...                1   \n",
       "2          9      2002  41711    Diesel  90          1   ...                0   \n",
       "\n",
       "   Powered_Windows  Power_Steering  Radio  Mistlamps  Sport_Model  \\\n",
       "0                1               1      0          0            0   \n",
       "1                0               1      0          0            0   \n",
       "2                0               1      0          0            0   \n",
       "\n",
       "   Backseat_Divider  Metallic_Rim  Radio_cassette  Tow_Bar  \n",
       "0                 1             0               0        0  \n",
       "1                 1             0               0        0  \n",
       "2                 1             0               0        0  \n",
       "\n",
       "[3 rows x 37 columns]"
      ]
     },
     "execution_count": 10,
     "metadata": {},
     "output_type": "execute_result"
    }
   ],
   "source": [
    "# 데이터 불러오기\n",
    "corolla = pd.read_csv(\"ToyotaCorolla.csv\")\n",
    "corolla.head(3)"
   ]
  },
  {
   "cell_type": "code",
   "execution_count": 11,
   "metadata": {
    "collapsed": false,
    "scrolled": true
   },
   "outputs": [
    {
     "name": "stdout",
     "output_type": "stream",
     "text": [
      "nCar: 1436 nVar: 37\n"
     ]
    }
   ],
   "source": [
    "# 데이터 관측치 갯수(nCar)와 변수의 수(nVar) 확인\n",
    "nCar = corolla.shape[0]\n",
    "nVar = corolla.shape[1]\n",
    "print('nCar: %d' % nCar, 'nVar: %d' % nVar )"
   ]
  },
  {
   "cell_type": "markdown",
   "metadata": {},
   "source": [
    "# 데이터 전처리"
   ]
  },
  {
   "cell_type": "markdown",
   "metadata": {},
   "source": [
    "## 범주형 변수를 이진형 변수로 변환"
   ]
  },
  {
   "cell_type": "code",
   "execution_count": 12,
   "metadata": {
    "collapsed": true
   },
   "outputs": [],
   "source": [
    "# 가변수 생성\n",
    "dummy_p = np.repeat(0,nCar)\n",
    "dummy_d = np.repeat(0,nCar)\n",
    "dummy_c = np.repeat(0,nCar)\n",
    "\n",
    "# 연료타입에 대한 위치 인덱스를 저장  \n",
    "p_idx = np.array(corolla.Fuel_Type == \"Petrol\") # gasoline\n",
    "d_idx = np.array(corolla.Fuel_Type == \"Diesel\")\n",
    "c_idx = np.array(corolla.Fuel_Type == \"CNG\")\n",
    "\n",
    "# 인덱스 슬라이싱 후 (binary = 1) 대입\n",
    "dummy_p[p_idx] = 1  # Petrol\n",
    "dummy_d[d_idx] = 1  # Diesel\n",
    "dummy_c[c_idx] = 1  # CNG"
   ]
  },
  {
   "cell_type": "markdown",
   "metadata": {},
   "source": [
    "## 불필요한 변수 제거 및 가변수 추가"
   ]
  },
  {
   "cell_type": "code",
   "execution_count": 13,
   "metadata": {
    "collapsed": true
   },
   "outputs": [],
   "source": [
    "# np or dict to DF\n",
    "Fuel = pd.DataFrame({'Petrol': dummy_p, 'Diesel': dummy_d, 'CNG': dummy_c})\n",
    "\n",
    "# column slice\n",
    "corolla_ = corolla.dropna().drop(['Id','Model','Fuel_Type'], axis=1, \n",
    "                                 inplace=False)\n",
    "mlr_data = pd.concat((corolla_, Fuel), 1)"
   ]
  },
  {
   "cell_type": "code",
   "execution_count": 14,
   "metadata": {
    "collapsed": false,
    "scrolled": false
   },
   "outputs": [
    {
     "data": {
      "text/html": [
       "<div>\n",
       "<table border=\"1\" class=\"dataframe\">\n",
       "  <thead>\n",
       "    <tr style=\"text-align: right;\">\n",
       "      <th></th>\n",
       "      <th>Price</th>\n",
       "      <th>Age_08_04</th>\n",
       "      <th>Mfg_Month</th>\n",
       "      <th>Mfg_Year</th>\n",
       "      <th>KM</th>\n",
       "      <th>HP</th>\n",
       "      <th>Met_Color</th>\n",
       "      <th>Automatic</th>\n",
       "      <th>cc</th>\n",
       "      <th>Doors</th>\n",
       "      <th>...</th>\n",
       "      <th>Radio</th>\n",
       "      <th>Mistlamps</th>\n",
       "      <th>Sport_Model</th>\n",
       "      <th>Backseat_Divider</th>\n",
       "      <th>Metallic_Rim</th>\n",
       "      <th>Radio_cassette</th>\n",
       "      <th>Tow_Bar</th>\n",
       "      <th>CNG</th>\n",
       "      <th>Diesel</th>\n",
       "      <th>Petrol</th>\n",
       "    </tr>\n",
       "  </thead>\n",
       "  <tbody>\n",
       "    <tr>\n",
       "      <th>0</th>\n",
       "      <td>13500</td>\n",
       "      <td>23</td>\n",
       "      <td>10</td>\n",
       "      <td>2002</td>\n",
       "      <td>46986</td>\n",
       "      <td>90</td>\n",
       "      <td>1</td>\n",
       "      <td>0</td>\n",
       "      <td>2000</td>\n",
       "      <td>3</td>\n",
       "      <td>...</td>\n",
       "      <td>0</td>\n",
       "      <td>0</td>\n",
       "      <td>0</td>\n",
       "      <td>1</td>\n",
       "      <td>0</td>\n",
       "      <td>0</td>\n",
       "      <td>0</td>\n",
       "      <td>0</td>\n",
       "      <td>1</td>\n",
       "      <td>0</td>\n",
       "    </tr>\n",
       "    <tr>\n",
       "      <th>1</th>\n",
       "      <td>13750</td>\n",
       "      <td>23</td>\n",
       "      <td>10</td>\n",
       "      <td>2002</td>\n",
       "      <td>72937</td>\n",
       "      <td>90</td>\n",
       "      <td>1</td>\n",
       "      <td>0</td>\n",
       "      <td>2000</td>\n",
       "      <td>3</td>\n",
       "      <td>...</td>\n",
       "      <td>0</td>\n",
       "      <td>0</td>\n",
       "      <td>0</td>\n",
       "      <td>1</td>\n",
       "      <td>0</td>\n",
       "      <td>0</td>\n",
       "      <td>0</td>\n",
       "      <td>0</td>\n",
       "      <td>1</td>\n",
       "      <td>0</td>\n",
       "    </tr>\n",
       "    <tr>\n",
       "      <th>2</th>\n",
       "      <td>13950</td>\n",
       "      <td>24</td>\n",
       "      <td>9</td>\n",
       "      <td>2002</td>\n",
       "      <td>41711</td>\n",
       "      <td>90</td>\n",
       "      <td>1</td>\n",
       "      <td>0</td>\n",
       "      <td>2000</td>\n",
       "      <td>3</td>\n",
       "      <td>...</td>\n",
       "      <td>0</td>\n",
       "      <td>0</td>\n",
       "      <td>0</td>\n",
       "      <td>1</td>\n",
       "      <td>0</td>\n",
       "      <td>0</td>\n",
       "      <td>0</td>\n",
       "      <td>0</td>\n",
       "      <td>1</td>\n",
       "      <td>0</td>\n",
       "    </tr>\n",
       "    <tr>\n",
       "      <th>3</th>\n",
       "      <td>14950</td>\n",
       "      <td>26</td>\n",
       "      <td>7</td>\n",
       "      <td>2002</td>\n",
       "      <td>48000</td>\n",
       "      <td>90</td>\n",
       "      <td>0</td>\n",
       "      <td>0</td>\n",
       "      <td>2000</td>\n",
       "      <td>3</td>\n",
       "      <td>...</td>\n",
       "      <td>0</td>\n",
       "      <td>0</td>\n",
       "      <td>0</td>\n",
       "      <td>1</td>\n",
       "      <td>0</td>\n",
       "      <td>0</td>\n",
       "      <td>0</td>\n",
       "      <td>0</td>\n",
       "      <td>1</td>\n",
       "      <td>0</td>\n",
       "    </tr>\n",
       "    <tr>\n",
       "      <th>4</th>\n",
       "      <td>13750</td>\n",
       "      <td>30</td>\n",
       "      <td>3</td>\n",
       "      <td>2002</td>\n",
       "      <td>38500</td>\n",
       "      <td>90</td>\n",
       "      <td>0</td>\n",
       "      <td>0</td>\n",
       "      <td>2000</td>\n",
       "      <td>3</td>\n",
       "      <td>...</td>\n",
       "      <td>0</td>\n",
       "      <td>1</td>\n",
       "      <td>0</td>\n",
       "      <td>1</td>\n",
       "      <td>0</td>\n",
       "      <td>0</td>\n",
       "      <td>0</td>\n",
       "      <td>0</td>\n",
       "      <td>1</td>\n",
       "      <td>0</td>\n",
       "    </tr>\n",
       "  </tbody>\n",
       "</table>\n",
       "<p>5 rows × 37 columns</p>\n",
       "</div>"
      ],
      "text/plain": [
       "   Price  Age_08_04  Mfg_Month  Mfg_Year     KM  HP  Met_Color  Automatic  \\\n",
       "0  13500         23         10      2002  46986  90          1          0   \n",
       "1  13750         23         10      2002  72937  90          1          0   \n",
       "2  13950         24          9      2002  41711  90          1          0   \n",
       "3  14950         26          7      2002  48000  90          0          0   \n",
       "4  13750         30          3      2002  38500  90          0          0   \n",
       "\n",
       "     cc  Doors   ...    Radio  Mistlamps  Sport_Model  Backseat_Divider  \\\n",
       "0  2000      3   ...        0          0            0                 1   \n",
       "1  2000      3   ...        0          0            0                 1   \n",
       "2  2000      3   ...        0          0            0                 1   \n",
       "3  2000      3   ...        0          0            0                 1   \n",
       "4  2000      3   ...        0          1            0                 1   \n",
       "\n",
       "   Metallic_Rim  Radio_cassette  Tow_Bar  CNG  Diesel  Petrol  \n",
       "0             0               0        0    0       1       0  \n",
       "1             0               0        0    0       1       0  \n",
       "2             0               0        0    0       1       0  \n",
       "3             0               0        0    0       1       0  \n",
       "4             0               0        0    0       1       0  \n",
       "\n",
       "[5 rows x 37 columns]"
      ]
     },
     "execution_count": 14,
     "metadata": {},
     "output_type": "execute_result"
    }
   ],
   "source": [
    "mlr_data.head()"
   ]
  },
  {
   "cell_type": "markdown",
   "metadata": {},
   "source": [
    "## 설명변수(X), 타켓변수(Y) 분리 및 학습데이터와 평가데이터 "
   ]
  },
  {
   "cell_type": "code",
   "execution_count": 24,
   "metadata": {
    "collapsed": false
   },
   "outputs": [
    {
     "data": {
      "text/plain": [
       "(1436, 37)"
      ]
     },
     "execution_count": 24,
     "metadata": {},
     "output_type": "execute_result"
    }
   ],
   "source": [
    "mlr_data.shape"
   ]
  },
  {
   "cell_type": "code",
   "execution_count": 22,
   "metadata": {
    "collapsed": false
   },
   "outputs": [
    {
     "name": "stdout",
     "output_type": "stream",
     "text": [
      "(1005, 36) (431, 36) (1005,) (431,)\n"
     ]
    }
   ],
   "source": [
    "# price를 제외한 모든 항목 이름\n",
    "feature_columns = list(mlr_data.columns.difference(['Price']))\n",
    "\n",
    "X = mlr_data[feature_columns]\n",
    "y = mlr_data.Price\n",
    "train_x, test_x, train_y, test_y = train_test_split(X, y, train_size=0.7, \n",
    "                                                    test_size=0.3, \n",
    "                                                    random_state=1) #rand seed\n",
    "\n",
    "print(train_x.shape, test_x.shape, train_y.shape, test_y.shape)"
   ]
  },
  {
   "cell_type": "markdown",
   "metadata": {},
   "source": [
    "# 선형회귀모형 모델링 y = f(x)"
   ]
  },
  {
   "cell_type": "code",
   "execution_count": 23,
   "metadata": {
    "collapsed": true
   },
   "outputs": [],
   "source": [
    "# Train the MLR\n",
    "full_model = sm.OLS(train_y, train_x)\n",
    "fitted_full_model = full_model.fit()"
   ]
  },
  {
   "cell_type": "markdown",
   "metadata": {},
   "source": [
    "## 학습에 유의미한 변수확인"
   ]
  },
  {
   "cell_type": "code",
   "execution_count": 36,
   "metadata": {
    "collapsed": false,
    "scrolled": true
   },
   "outputs": [
    {
     "data": {
      "text/html": [
       "<table class=\"simpletable\">\n",
       "<caption>OLS Regression Results</caption>\n",
       "<tr>\n",
       "  <th>Dep. Variable:</th>          <td>Price</td>      <th>  R-squared:         </th> <td>   0.910</td> \n",
       "</tr>\n",
       "<tr>\n",
       "  <th>Model:</th>                   <td>OLS</td>       <th>  Adj. R-squared:    </th> <td>   0.907</td> \n",
       "</tr>\n",
       "<tr>\n",
       "  <th>Method:</th>             <td>Least Squares</td>  <th>  F-statistic:       </th> <td>   297.2</td> \n",
       "</tr>\n",
       "<tr>\n",
       "  <th>Date:</th>             <td>Wed, 06 Sep 2017</td> <th>  Prob (F-statistic):</th>  <td>  0.00</td>  \n",
       "</tr>\n",
       "<tr>\n",
       "  <th>Time:</th>                 <td>13:18:40</td>     <th>  Log-Likelihood:    </th> <td> -8461.0</td> \n",
       "</tr>\n",
       "<tr>\n",
       "  <th>No. Observations:</th>      <td>  1005</td>      <th>  AIC:               </th> <td>1.699e+04</td>\n",
       "</tr>\n",
       "<tr>\n",
       "  <th>Df Residuals:</th>          <td>   971</td>      <th>  BIC:               </th> <td>1.716e+04</td>\n",
       "</tr>\n",
       "<tr>\n",
       "  <th>Df Model:</th>              <td>    33</td>      <th>                     </th>     <td> </td>    \n",
       "</tr>\n",
       "<tr>\n",
       "  <th>Covariance Type:</th>      <td>nonrobust</td>    <th>                     </th>     <td> </td>    \n",
       "</tr>\n",
       "</table>\n",
       "<table class=\"simpletable\">\n",
       "<tr>\n",
       "          <td></td>            <th>coef</th>     <th>std err</th>      <th>t</th>      <th>P>|t|</th>  <th>[0.025</th>    <th>0.975]</th>  \n",
       "</tr>\n",
       "<tr>\n",
       "  <th>ABS</th>              <td> -202.4540</td> <td>  137.381</td> <td>   -1.474</td> <td> 0.141</td> <td> -472.052</td> <td>   67.144</td>\n",
       "</tr>\n",
       "<tr>\n",
       "  <th>Age_08_04</th>        <td> -119.6512</td> <td>    4.153</td> <td>  -28.808</td> <td> 0.000</td> <td> -127.802</td> <td> -111.501</td>\n",
       "</tr>\n",
       "<tr>\n",
       "  <th>Airbag_1</th>         <td>  126.9969</td> <td>  295.899</td> <td>    0.429</td> <td> 0.668</td> <td> -453.679</td> <td>  707.673</td>\n",
       "</tr>\n",
       "<tr>\n",
       "  <th>Airbag_2</th>         <td> -118.6408</td> <td>  141.548</td> <td>   -0.838</td> <td> 0.402</td> <td> -396.415</td> <td>  159.133</td>\n",
       "</tr>\n",
       "<tr>\n",
       "  <th>Airco</th>            <td>  225.2949</td> <td>   95.485</td> <td>    2.359</td> <td> 0.018</td> <td>   37.915</td> <td>  412.675</td>\n",
       "</tr>\n",
       "<tr>\n",
       "  <th>Automatic</th>        <td>  530.3615</td> <td>  156.958</td> <td>    3.379</td> <td> 0.001</td> <td>  222.347</td> <td>  838.376</td>\n",
       "</tr>\n",
       "<tr>\n",
       "  <th>Automatic_airco</th>  <td> 2340.4302</td> <td>  198.211</td> <td>   11.808</td> <td> 0.000</td> <td> 1951.459</td> <td> 2729.402</td>\n",
       "</tr>\n",
       "<tr>\n",
       "  <th>BOVAG_Guarantee</th>  <td>  439.3210</td> <td>  137.858</td> <td>    3.187</td> <td> 0.001</td> <td>  168.787</td> <td>  709.855</td>\n",
       "</tr>\n",
       "<tr>\n",
       "  <th>Backseat_Divider</th> <td>  -56.5628</td> <td>  139.908</td> <td>   -0.404</td> <td> 0.686</td> <td> -331.120</td> <td>  217.994</td>\n",
       "</tr>\n",
       "<tr>\n",
       "  <th>Boardcomputer</th>    <td> -395.3939</td> <td>  123.287</td> <td>   -3.207</td> <td> 0.001</td> <td> -637.333</td> <td> -153.454</td>\n",
       "</tr>\n",
       "<tr>\n",
       "  <th>CD_Player</th>        <td>  188.3535</td> <td>  106.878</td> <td>    1.762</td> <td> 0.078</td> <td>  -21.385</td> <td>  398.092</td>\n",
       "</tr>\n",
       "<tr>\n",
       "  <th>CNG</th>              <td>-1953.8109</td> <td>  279.928</td> <td>   -6.980</td> <td> 0.000</td> <td>-2503.145</td> <td>-1404.477</td>\n",
       "</tr>\n",
       "<tr>\n",
       "  <th>Central_Lock</th>     <td>   31.0129</td> <td>  160.947</td> <td>    0.193</td> <td> 0.847</td> <td> -284.832</td> <td>  346.857</td>\n",
       "</tr>\n",
       "<tr>\n",
       "  <th>Cylinders</th>        <td>   -0.0273</td> <td>    0.002</td> <td>  -11.292</td> <td> 0.000</td> <td>   -0.032</td> <td>   -0.023</td>\n",
       "</tr>\n",
       "<tr>\n",
       "  <th>Diesel</th>           <td> 1696.6253</td> <td>  319.678</td> <td>    5.307</td> <td> 0.000</td> <td> 1069.286</td> <td> 2323.965</td>\n",
       "</tr>\n",
       "<tr>\n",
       "  <th>Doors</th>            <td>  100.2012</td> <td>   43.590</td> <td>    2.299</td> <td> 0.022</td> <td>   14.660</td> <td>  185.743</td>\n",
       "</tr>\n",
       "<tr>\n",
       "  <th>Gears</th>            <td>  -43.4054</td> <td>  203.815</td> <td>   -0.213</td> <td> 0.831</td> <td> -443.374</td> <td>  356.563</td>\n",
       "</tr>\n",
       "<tr>\n",
       "  <th>Guarantee_Period</th> <td>   75.9339</td> <td>   14.803</td> <td>    5.130</td> <td> 0.000</td> <td>   46.884</td> <td>  104.984</td>\n",
       "</tr>\n",
       "<tr>\n",
       "  <th>HP</th>               <td>   53.5088</td> <td>    5.942</td> <td>    9.005</td> <td> 0.000</td> <td>   41.848</td> <td>   65.170</td>\n",
       "</tr>\n",
       "<tr>\n",
       "  <th>KM</th>               <td>   -0.0162</td> <td>    0.001</td> <td>  -11.832</td> <td> 0.000</td> <td>   -0.019</td> <td>   -0.014</td>\n",
       "</tr>\n",
       "<tr>\n",
       "  <th>Met_Color</th>        <td>   21.1158</td> <td>   80.463</td> <td>    0.262</td> <td> 0.793</td> <td> -136.785</td> <td>  179.016</td>\n",
       "</tr>\n",
       "<tr>\n",
       "  <th>Metallic_Rim</th>     <td>  256.9483</td> <td>  102.169</td> <td>    2.515</td> <td> 0.012</td> <td>   56.451</td> <td>  457.446</td>\n",
       "</tr>\n",
       "<tr>\n",
       "  <th>Mfg_Month</th>        <td>  -90.6048</td> <td>   10.989</td> <td>   -8.245</td> <td> 0.000</td> <td> -112.169</td> <td>  -69.041</td>\n",
       "</tr>\n",
       "<tr>\n",
       "  <th>Mfg_Year</th>         <td>    3.8468</td> <td>    0.892</td> <td>    4.314</td> <td> 0.000</td> <td>    2.097</td> <td>    5.597</td>\n",
       "</tr>\n",
       "<tr>\n",
       "  <th>Mfr_Guarantee</th>    <td>  191.5132</td> <td>   78.667</td> <td>    2.434</td> <td> 0.015</td> <td>   37.136</td> <td>  345.891</td>\n",
       "</tr>\n",
       "<tr>\n",
       "  <th>Mistlamps</th>        <td>    8.5371</td> <td>  114.245</td> <td>    0.075</td> <td> 0.940</td> <td> -215.658</td> <td>  232.733</td>\n",
       "</tr>\n",
       "<tr>\n",
       "  <th>Petrol</th>           <td>  257.1788</td> <td>  242.729</td> <td>    1.060</td> <td> 0.290</td> <td> -219.155</td> <td>  733.513</td>\n",
       "</tr>\n",
       "<tr>\n",
       "  <th>Power_Steering</th>   <td> -330.0358</td> <td>  335.284</td> <td>   -0.984</td> <td> 0.325</td> <td> -988.000</td> <td>  327.929</td>\n",
       "</tr>\n",
       "<tr>\n",
       "  <th>Powered_Windows</th>  <td>  346.9541</td> <td>  160.822</td> <td>    2.157</td> <td> 0.031</td> <td>   31.355</td> <td>  662.553</td>\n",
       "</tr>\n",
       "<tr>\n",
       "  <th>Quarterly_Tax</th>    <td>   14.8799</td> <td>    1.929</td> <td>    7.713</td> <td> 0.000</td> <td>   11.094</td> <td>   18.666</td>\n",
       "</tr>\n",
       "<tr>\n",
       "  <th>Radio</th>            <td> -465.0620</td> <td>  816.893</td> <td>   -0.569</td> <td> 0.569</td> <td>-2068.142</td> <td> 1138.018</td>\n",
       "</tr>\n",
       "<tr>\n",
       "  <th>Radio_cassette</th>   <td>  442.7284</td> <td>  819.165</td> <td>    0.540</td> <td> 0.589</td> <td>-1164.809</td> <td> 2050.266</td>\n",
       "</tr>\n",
       "<tr>\n",
       "  <th>Sport_Model</th>      <td>  370.3652</td> <td>   92.700</td> <td>    3.995</td> <td> 0.000</td> <td>  188.450</td> <td>  552.280</td>\n",
       "</tr>\n",
       "<tr>\n",
       "  <th>Tow_Bar</th>          <td> -117.5161</td> <td>   85.656</td> <td>   -1.372</td> <td> 0.170</td> <td> -285.609</td> <td>   50.577</td>\n",
       "</tr>\n",
       "<tr>\n",
       "  <th>Weight</th>           <td>    8.3351</td> <td>    1.255</td> <td>    6.640</td> <td> 0.000</td> <td>    5.872</td> <td>   10.799</td>\n",
       "</tr>\n",
       "<tr>\n",
       "  <th>cc</th>               <td>   -3.6644</td> <td>    0.570</td> <td>   -6.429</td> <td> 0.000</td> <td>   -4.783</td> <td>   -2.546</td>\n",
       "</tr>\n",
       "</table>\n",
       "<table class=\"simpletable\">\n",
       "<tr>\n",
       "  <th>Omnibus:</th>       <td>100.526</td> <th>  Durbin-Watson:     </th> <td>   2.010</td> \n",
       "</tr>\n",
       "<tr>\n",
       "  <th>Prob(Omnibus):</th> <td> 0.000</td>  <th>  Jarque-Bera (JB):  </th> <td> 671.465</td> \n",
       "</tr>\n",
       "<tr>\n",
       "  <th>Skew:</th>          <td> 0.111</td>  <th>  Prob(JB):          </th> <td>1.56e-146</td>\n",
       "</tr>\n",
       "<tr>\n",
       "  <th>Kurtosis:</th>      <td> 6.998</td>  <th>  Cond. No.          </th> <td>1.32e+16</td> \n",
       "</tr>\n",
       "</table>"
      ],
      "text/plain": [
       "<class 'statsmodels.iolib.summary.Summary'>\n",
       "\"\"\"\n",
       "                            OLS Regression Results                            \n",
       "==============================================================================\n",
       "Dep. Variable:                  Price   R-squared:                       0.910\n",
       "Model:                            OLS   Adj. R-squared:                  0.907\n",
       "Method:                 Least Squares   F-statistic:                     297.2\n",
       "Date:                Wed, 06 Sep 2017   Prob (F-statistic):               0.00\n",
       "Time:                        13:18:40   Log-Likelihood:                -8461.0\n",
       "No. Observations:                1005   AIC:                         1.699e+04\n",
       "Df Residuals:                     971   BIC:                         1.716e+04\n",
       "Df Model:                          33                                         \n",
       "Covariance Type:            nonrobust                                         \n",
       "====================================================================================\n",
       "                       coef    std err          t      P>|t|      [0.025      0.975]\n",
       "------------------------------------------------------------------------------------\n",
       "ABS               -202.4540    137.381     -1.474      0.141    -472.052      67.144\n",
       "Age_08_04         -119.6512      4.153    -28.808      0.000    -127.802    -111.501\n",
       "Airbag_1           126.9969    295.899      0.429      0.668    -453.679     707.673\n",
       "Airbag_2          -118.6408    141.548     -0.838      0.402    -396.415     159.133\n",
       "Airco              225.2949     95.485      2.359      0.018      37.915     412.675\n",
       "Automatic          530.3615    156.958      3.379      0.001     222.347     838.376\n",
       "Automatic_airco   2340.4302    198.211     11.808      0.000    1951.459    2729.402\n",
       "BOVAG_Guarantee    439.3210    137.858      3.187      0.001     168.787     709.855\n",
       "Backseat_Divider   -56.5628    139.908     -0.404      0.686    -331.120     217.994\n",
       "Boardcomputer     -395.3939    123.287     -3.207      0.001    -637.333    -153.454\n",
       "CD_Player          188.3535    106.878      1.762      0.078     -21.385     398.092\n",
       "CNG              -1953.8109    279.928     -6.980      0.000   -2503.145   -1404.477\n",
       "Central_Lock        31.0129    160.947      0.193      0.847    -284.832     346.857\n",
       "Cylinders           -0.0273      0.002    -11.292      0.000      -0.032      -0.023\n",
       "Diesel            1696.6253    319.678      5.307      0.000    1069.286    2323.965\n",
       "Doors              100.2012     43.590      2.299      0.022      14.660     185.743\n",
       "Gears              -43.4054    203.815     -0.213      0.831    -443.374     356.563\n",
       "Guarantee_Period    75.9339     14.803      5.130      0.000      46.884     104.984\n",
       "HP                  53.5088      5.942      9.005      0.000      41.848      65.170\n",
       "KM                  -0.0162      0.001    -11.832      0.000      -0.019      -0.014\n",
       "Met_Color           21.1158     80.463      0.262      0.793    -136.785     179.016\n",
       "Metallic_Rim       256.9483    102.169      2.515      0.012      56.451     457.446\n",
       "Mfg_Month          -90.6048     10.989     -8.245      0.000    -112.169     -69.041\n",
       "Mfg_Year             3.8468      0.892      4.314      0.000       2.097       5.597\n",
       "Mfr_Guarantee      191.5132     78.667      2.434      0.015      37.136     345.891\n",
       "Mistlamps            8.5371    114.245      0.075      0.940    -215.658     232.733\n",
       "Petrol             257.1788    242.729      1.060      0.290    -219.155     733.513\n",
       "Power_Steering    -330.0358    335.284     -0.984      0.325    -988.000     327.929\n",
       "Powered_Windows    346.9541    160.822      2.157      0.031      31.355     662.553\n",
       "Quarterly_Tax       14.8799      1.929      7.713      0.000      11.094      18.666\n",
       "Radio             -465.0620    816.893     -0.569      0.569   -2068.142    1138.018\n",
       "Radio_cassette     442.7284    819.165      0.540      0.589   -1164.809    2050.266\n",
       "Sport_Model        370.3652     92.700      3.995      0.000     188.450     552.280\n",
       "Tow_Bar           -117.5161     85.656     -1.372      0.170    -285.609      50.577\n",
       "Weight               8.3351      1.255      6.640      0.000       5.872      10.799\n",
       "cc                  -3.6644      0.570     -6.429      0.000      -4.783      -2.546\n",
       "==============================================================================\n",
       "Omnibus:                      100.526   Durbin-Watson:                   2.010\n",
       "Prob(Omnibus):                  0.000   Jarque-Bera (JB):              671.465\n",
       "Skew:                           0.111   Prob(JB):                    1.56e-146\n",
       "Kurtosis:                       6.998   Cond. No.                     1.32e+16\n",
       "==============================================================================\n",
       "\n",
       "Warnings:\n",
       "[1] Standard Errors assume that the covariance matrix of the errors is correctly specified.\n",
       "[2] The smallest eigenvalue is 3.42e-20. This might indicate that there are\n",
       "strong multicollinearity problems or that the design matrix is singular.\n",
       "\"\"\""
      ]
     },
     "execution_count": 36,
     "metadata": {},
     "output_type": "execute_result"
    }
   ],
   "source": [
    "fitted_full_model.summary() "
   ]
  },
  {
   "cell_type": "markdown",
   "metadata": {},
   "source": [
    "## 그래프로 모델링 적합성 확인"
   ]
  },
  {
   "cell_type": "markdown",
   "metadata": {},
   "source": [
    "### 정규분포 확인"
   ]
  },
  {
   "cell_type": "code",
   "execution_count": 29,
   "metadata": {
    "collapsed": false,
    "scrolled": true
   },
   "outputs": [
    {
     "data": {
      "image/png": "[encoded data removed]",
      "text/plain": [
       "<matplotlib.figure.Figure at 0x114b6c6d8>"
      ]
     },
     "metadata": {},
     "output_type": "display_data"
    }
   ],
   "source": [
    "# 학습데이터의 잔차 확인\n",
    "pred_y = fitted_full_model.predict(train_x)\n",
    "res = fitted_full_model.resid  # residual\n",
    "\n",
    "# q-q plot # 정규분포 확인\n",
    "fig = sm.qqplot(res, stats.t, fit=True, line='45')"
   ]
  },
  {
   "cell_type": "markdown",
   "metadata": {},
   "source": [
    "### 이상관측치탐색"
   ]
  },
  {
   "cell_type": "markdown",
   "metadata": {},
   "source": [
    "* Residuals: Y에서 벗어나는 정도\n",
    "* Leverage: X에서 벗어나는 정도 "
   ]
  },
  {
   "cell_type": "code",
   "execution_count": 36,
   "metadata": {
    "collapsed": true
   },
   "outputs": [],
   "source": [
    "sm.graphics.influence_plot?"
   ]
  },
  {
   "cell_type": "code",
   "execution_count": 26,
   "metadata": {
    "collapsed": false,
    "scrolled": true
   },
   "outputs": [
    {
     "data": {
      "image/png": "[encoded data removed]",
      "text/plain": [
       "<matplotlib.figure.Figure at 0x11481e668>"
      ]
     },
     "metadata": {},
     "output_type": "display_data"
    }
   ],
   "source": [
    "# Cook's distance with high leverage\n",
    "fig, ax = plt.subplots(figsize=(12,8))\n",
    "fig = sm.graphics.influence_plot(fitted_full_model, ax=ax, \n",
    "                                 criterion=\"cooks\", s=2)"
   ]
  },
  {
   "cell_type": "code",
   "execution_count": 40,
   "metadata": {
    "collapsed": true
   },
   "outputs": [],
   "source": [
    "sm.graphics.influence_plot?"
   ]
  },
  {
   "cell_type": "markdown",
   "metadata": {},
   "source": [
    "### 잔차패턴확인"
   ]
  },
  {
   "cell_type": "code",
   "execution_count": 31,
   "metadata": {
    "collapsed": true
   },
   "outputs": [],
   "source": [
    "plt.scatter?"
   ]
  },
  {
   "cell_type": "code",
   "execution_count": 39,
   "metadata": {
    "collapsed": false,
    "scrolled": true
   },
   "outputs": [
    {
     "data": {
      "text/plain": [
       "<matplotlib.text.Text at 0x114752f60>"
      ]
     },
     "execution_count": 39,
     "metadata": {},
     "output_type": "execute_result"
    },
    {
     "data": {
      "image/png": "[encoded data removed]",
      "text/plain": [
       "<matplotlib.figure.Figure at 0x1151b0b00>"
      ]
     },
     "metadata": {},
     "output_type": "display_data"
    }
   ],
   "source": [
    "# residual pattern 확인\n",
    "fig = plt.scatter(pred_y, res, s=4)\n",
    "plt.xlim(4000,30000)\n",
    "plt.xlabel('Fitted values')\n",
    "plt.ylabel('Residual')"
   ]
  },
  {
   "cell_type": "markdown",
   "metadata": {},
   "source": [
    "# 변수선택법"
   ]
  },
  {
   "cell_type": "markdown",
   "metadata": {},
   "source": [
    "## processSubset: 해당 feature_set에 대한 모델생성 및 AIC 계산"
   ]
  },
  {
   "cell_type": "code",
   "execution_count": 60,
   "metadata": {
    "collapsed": false
   },
   "outputs": [
    {
     "name": "stdout",
     "output_type": "stream",
     "text": [
      "{'model': <statsmodels.regression.linear_model.RegressionResultsWrapper object at 0x115272438>, 'AIC': 19087.157001523432}\n"
     ]
    }
   ],
   "source": [
    "def processSubset(X,y, feature_set):\n",
    "            model = sm.OLS(y,X[list(feature_set)]) # Modeling\n",
    "            regr = model.fit() # 모델 학습\n",
    "            AIC = regr.aic # 모델의 AIC\n",
    "            return {\"model\":regr, \"AIC\":AIC}\n",
    "        \n",
    "print(processSubset(X=train_x, y=train_y, \n",
    "                    feature_set = feature_columns[0:5]))"
   ]
  },
  {
   "cell_type": "markdown",
   "metadata": {},
   "source": [
    "## getBest(TrainingSet, Target, 조합 변수의 수)"
   ]
  },
  {
   "cell_type": "code",
   "execution_count": 62,
   "metadata": {
    "collapsed": false
   },
   "outputs": [
    {
     "name": "stdout",
     "output_type": "stream",
     "text": [
      "Processed  630 models on 2 predictors in 0.9652 seconds.\n",
      "AIC                                                17749.5\n",
      "model    <statsmodels.regression.linear_model.Regressio...\n",
      "Name: 67, dtype: object\n"
     ]
    }
   ],
   "source": [
    "def getBest(X,y,k):\n",
    "    tic = time.time() # 시작시간\n",
    "    results = [] # 결과 저장공간\n",
    "    for combo in itertools.combinations(X.columns, k): # 각 변수조합을 고려한 경우의 수\n",
    "        results.append(processSubset(X,y,feature_set=combo))  # 모델링된 것들을 저장\n",
    "    \n",
    "    models = pd.DataFrame(results) # 데이터 프레임으로 변환\n",
    "    # 가장 낮은 AIC를 가지는 모델 선택 및 저장\n",
    "    best_model = models.loc[models['AIC'].argmin()] # index\n",
    "    toc = time.time() # 종료시간\n",
    "    print(\"Processed \", models.shape[0], \n",
    "          \"models on\", k, \n",
    "          \"predictors in\", round((toc-tic), 4), \"seconds.\")\n",
    "    return best_model\n",
    "\n",
    "print(getBest(X=train_x, y=train_y,k=2))"
   ]
  },
  {
   "cell_type": "markdown",
   "metadata": {},
   "source": [
    "## 변수조합에 따른 모델링 시간"
   ]
  },
  {
   "cell_type": "code",
   "execution_count": 63,
   "metadata": {
    "collapsed": false
   },
   "outputs": [
    {
     "name": "stdout",
     "output_type": "stream",
     "text": [
      "Processed  36 models on 1 predictors in 0.0863 seconds.\n",
      "Processed  630 models on 2 predictors in 1.0633 seconds.\n",
      "Processed  7140 models on 3 predictors in 10.6383 seconds.\n",
      "Total elapsed time: 11.8031 seconds.\n"
     ]
    }
   ],
   "source": [
    "# 변수 선택에 따른 학습시간과 저장\n",
    "models = pd.DataFrame(columns=[\"AIC\", \"model\"])\n",
    "\n",
    "tic = time.time()\n",
    "for i in range(1,4):\n",
    "    models.loc[i] = getBest(X=train_x, y=train_y, k=i)\n",
    "toc = time.time()\n",
    "\n",
    "print(\"Total elapsed time:\", round((toc-tic), 4), \"seconds.\")"
   ]
  },
  {
   "cell_type": "code",
   "execution_count": 64,
   "metadata": {
    "collapsed": false
   },
   "outputs": [
    {
     "data": {
      "text/html": [
       "<div>\n",
       "<table border=\"1\" class=\"dataframe\">\n",
       "  <thead>\n",
       "    <tr style=\"text-align: right;\">\n",
       "      <th></th>\n",
       "      <th>AIC</th>\n",
       "      <th>model</th>\n",
       "    </tr>\n",
       "  </thead>\n",
       "  <tbody>\n",
       "    <tr>\n",
       "      <th>1</th>\n",
       "      <td>19181.920243</td>\n",
       "      <td>&lt;statsmodels.regression.linear_model.Regressio...</td>\n",
       "    </tr>\n",
       "    <tr>\n",
       "      <th>2</th>\n",
       "      <td>17749.459401</td>\n",
       "      <td>&lt;statsmodels.regression.linear_model.Regressio...</td>\n",
       "    </tr>\n",
       "    <tr>\n",
       "      <th>3</th>\n",
       "      <td>17513.372800</td>\n",
       "      <td>&lt;statsmodels.regression.linear_model.Regressio...</td>\n",
       "    </tr>\n",
       "  </tbody>\n",
       "</table>\n",
       "</div>"
      ],
      "text/plain": [
       "            AIC                                              model\n",
       "1  19181.920243  <statsmodels.regression.linear_model.Regressio...\n",
       "2  17749.459401  <statsmodels.regression.linear_model.Regressio...\n",
       "3  17513.372800  <statsmodels.regression.linear_model.Regressio..."
      ]
     },
     "execution_count": 64,
     "metadata": {},
     "output_type": "execute_result"
    }
   ],
   "source": [
    "models"
   ]
  },
  {
   "cell_type": "markdown",
   "metadata": {},
   "source": [
    "## 모델평가 지표"
   ]
  },
  {
   "cell_type": "code",
   "execution_count": 65,
   "metadata": {
    "collapsed": false,
    "scrolled": true
   },
   "outputs": [
    {
     "data": {
      "text/html": [
       "<table class=\"simpletable\">\n",
       "<caption>OLS Regression Results</caption>\n",
       "<tr>\n",
       "  <th>Dep. Variable:</th>          <td>Price</td>      <th>  R-squared:         </th> <td>   0.983</td> \n",
       "</tr>\n",
       "<tr>\n",
       "  <th>Model:</th>                   <td>OLS</td>       <th>  Adj. R-squared:    </th> <td>   0.983</td> \n",
       "</tr>\n",
       "<tr>\n",
       "  <th>Method:</th>             <td>Least Squares</td>  <th>  F-statistic:       </th> <td>1.968e+04</td>\n",
       "</tr>\n",
       "<tr>\n",
       "  <th>Date:</th>             <td>Tue, 31 Oct 2017</td> <th>  Prob (F-statistic):</th>  <td>  0.00</td>  \n",
       "</tr>\n",
       "<tr>\n",
       "  <th>Time:</th>                 <td>14:50:41</td>     <th>  Log-Likelihood:    </th> <td> -8753.7</td> \n",
       "</tr>\n",
       "<tr>\n",
       "  <th>No. Observations:</th>      <td>  1005</td>      <th>  AIC:               </th> <td>1.751e+04</td>\n",
       "</tr>\n",
       "<tr>\n",
       "  <th>Df Residuals:</th>          <td>  1002</td>      <th>  BIC:               </th> <td>1.753e+04</td>\n",
       "</tr>\n",
       "<tr>\n",
       "  <th>Df Model:</th>              <td>     3</td>      <th>                     </th>     <td> </td>    \n",
       "</tr>\n",
       "<tr>\n",
       "  <th>Covariance Type:</th>      <td>nonrobust</td>    <th>                     </th>     <td> </td>    \n",
       "</tr>\n",
       "</table>\n",
       "<table class=\"simpletable\">\n",
       "<tr>\n",
       "      <td></td>         <th>coef</th>     <th>std err</th>      <th>t</th>      <th>P>|t|</th>  <th>[0.025</th>    <th>0.975]</th>  \n",
       "</tr>\n",
       "<tr>\n",
       "  <th>Age_08_04</th> <td> -122.0081</td> <td>    2.720</td> <td>  -44.849</td> <td> 0.000</td> <td> -127.347</td> <td> -116.670</td>\n",
       "</tr>\n",
       "<tr>\n",
       "  <th>KM</th>        <td>   -0.0240</td> <td>    0.001</td> <td>  -16.366</td> <td> 0.000</td> <td>   -0.027</td> <td>   -0.021</td>\n",
       "</tr>\n",
       "<tr>\n",
       "  <th>Weight</th>    <td>   17.8840</td> <td>    0.127</td> <td>  140.733</td> <td> 0.000</td> <td>   17.635</td> <td>   18.133</td>\n",
       "</tr>\n",
       "</table>\n",
       "<table class=\"simpletable\">\n",
       "<tr>\n",
       "  <th>Omnibus:</th>       <td>147.992</td> <th>  Durbin-Watson:     </th> <td>   1.992</td>\n",
       "</tr>\n",
       "<tr>\n",
       "  <th>Prob(Omnibus):</th> <td> 0.000</td>  <th>  Jarque-Bera (JB):  </th> <td>1509.008</td>\n",
       "</tr>\n",
       "<tr>\n",
       "  <th>Skew:</th>          <td>-0.285</td>  <th>  Prob(JB):          </th> <td>    0.00</td>\n",
       "</tr>\n",
       "<tr>\n",
       "  <th>Kurtosis:</th>      <td> 8.976</td>  <th>  Cond. No.          </th> <td>4.52e+03</td>\n",
       "</tr>\n",
       "</table>"
      ],
      "text/plain": [
       "<class 'statsmodels.iolib.summary.Summary'>\n",
       "\"\"\"\n",
       "                            OLS Regression Results                            \n",
       "==============================================================================\n",
       "Dep. Variable:                  Price   R-squared:                       0.983\n",
       "Model:                            OLS   Adj. R-squared:                  0.983\n",
       "Method:                 Least Squares   F-statistic:                 1.968e+04\n",
       "Date:                Tue, 31 Oct 2017   Prob (F-statistic):               0.00\n",
       "Time:                        14:50:41   Log-Likelihood:                -8753.7\n",
       "No. Observations:                1005   AIC:                         1.751e+04\n",
       "Df Residuals:                    1002   BIC:                         1.753e+04\n",
       "Df Model:                           3                                         \n",
       "Covariance Type:            nonrobust                                         \n",
       "==============================================================================\n",
       "                 coef    std err          t      P>|t|      [0.025      0.975]\n",
       "------------------------------------------------------------------------------\n",
       "Age_08_04   -122.0081      2.720    -44.849      0.000    -127.347    -116.670\n",
       "KM            -0.0240      0.001    -16.366      0.000      -0.027      -0.021\n",
       "Weight        17.8840      0.127    140.733      0.000      17.635      18.133\n",
       "==============================================================================\n",
       "Omnibus:                      147.992   Durbin-Watson:                   1.992\n",
       "Prob(Omnibus):                  0.000   Jarque-Bera (JB):             1509.008\n",
       "Skew:                          -0.285   Prob(JB):                         0.00\n",
       "Kurtosis:                       8.976   Cond. No.                     4.52e+03\n",
       "==============================================================================\n",
       "\n",
       "Warnings:\n",
       "[1] Standard Errors assume that the covariance matrix of the errors is correctly specified.\n",
       "[2] The condition number is large, 4.52e+03. This might indicate that there are\n",
       "strong multicollinearity or other numerical problems.\n",
       "\"\"\""
      ]
     },
     "execution_count": 65,
     "metadata": {},
     "output_type": "execute_result"
    }
   ],
   "source": [
    "models.loc[3, \"model\"].summary()"
   ]
  },
  {
   "cell_type": "code",
   "execution_count": 66,
   "metadata": {
    "collapsed": false,
    "scrolled": false
   },
   "outputs": [
    {
     "name": "stdout",
     "output_type": "stream",
     "text": [
      "selected model Rsquared:  0.98331\n",
      "selected model AIC:  17513.37280\n",
      "selected model MSE:  129014650.45174\n"
     ]
    }
   ],
   "source": [
    "# 모든 변수들 모델링 한것보다 나은 결과를 가져옴\n",
    "print(\"selected model Rsquared: \",\"{:.5f}\".format(models.loc[3, \"model\"].rsquared))\n",
    "print(\"selected model AIC: \",\"{:.5f}\".format(models.loc[3, \"model\"].aic))\n",
    "print(\"selected model MSE: \",\"{:.5f}\".format(models.loc[3, \"model\"].mse_total))"
   ]
  },
  {
   "cell_type": "code",
   "execution_count": 67,
   "metadata": {
    "collapsed": false,
    "scrolled": true
   },
   "outputs": [
    {
     "data": {
      "text/plain": [
       "<matplotlib.text.Text at 0x11767acf8>"
      ]
     },
     "execution_count": 67,
     "metadata": {},
     "output_type": "execute_result"
    },
    {
     "data": {
      "image/png": "[encoded data removed]",
      "text/plain": [
       "<matplotlib.figure.Figure at 0x11b9ecba8>"
      ]
     },
     "metadata": {},
     "output_type": "display_data"
    }
   ],
   "source": [
    "# Plot the result\n",
    "plt.figure(figsize=(20,10))\n",
    "plt.rcParams.update({'font.size': 18, 'lines.markersize': 10})\n",
    "\n",
    "## Mallow Cp\n",
    "plt.subplot(2, 2, 1)\n",
    "Cp= models.apply(lambda row: (row[1].params.shape[0]+(row[1].mse_total-\n",
    "                               fitted_full_model.mse_total)*(train_x.shape[0]-\n",
    "                                row[1].params.shape[0])/fitted_full_model.mse_total\n",
    "                               ), axis=1)\n",
    "plt.plot(Cp)\n",
    "plt.plot(Cp.argmin(), Cp.min(), \"or\")\n",
    "plt.xlabel('# Predictors')\n",
    "plt.ylabel('Cp')\n",
    "\n",
    "# adj-rsquared plot\n",
    "# adj-rsquared = Explained variation / Total variation\n",
    "adj_rsquared = models.apply(lambda row: row[1].rsquared_adj, axis=1)\n",
    "plt.subplot(2, 2, 2)\n",
    "plt.plot(adj_rsquared)\n",
    "plt.plot(adj_rsquared.argmax(), adj_rsquared.max(), \"or\")\n",
    "plt.xlabel('# Predictors')\n",
    "plt.ylabel('adjusted rsquared')\n",
    "\n",
    "# aic\n",
    "aic = models.apply(lambda row: row[1].aic, axis=1)\n",
    "plt.subplot(2, 2, 3)\n",
    "plt.plot(aic)\n",
    "plt.plot(aic.argmin(), aic.min(), \"or\")\n",
    "plt.xlabel('# Predictors')\n",
    "plt.ylabel('AIC')\n",
    "\n",
    "# bic\n",
    "bic = models.apply(lambda row: row[1].bic, axis=1)\n",
    "plt.subplot(2, 2, 4)\n",
    "plt.plot(bic)\n",
    "plt.plot(bic.argmin(), bic.min(), \"or\")\n",
    "plt.xlabel(' # Predictors')\n",
    "plt.ylabel('BIC')"
   ]
  },
  {
   "cell_type": "markdown",
   "metadata": {},
   "source": [
    "## 전진선택법"
   ]
  },
  {
   "cell_type": "markdown",
   "metadata": {},
   "source": [
    "### forward: 전진선택법 (step=1)"
   ]
  },
  {
   "cell_type": "code",
   "execution_count": 72,
   "metadata": {
    "collapsed": true
   },
   "outputs": [],
   "source": [
    "def forward(X, y, predictors):\n",
    "    # 데이터 변수들이 미리정의된 predictors에 있는지 없는지 확인 및 분류\n",
    "    remaining_predictors = [p for p in X.columns if p not in predictors]\n",
    "    tic = time.time()\n",
    "    results = []\n",
    "    \n",
    "    for p in remaining_predictors:\n",
    "        results.append(processSubset(X=X, y=y, feature_set=predictors+[p]))\n",
    "    # 데이터프레임으로 변환\n",
    "    models = pd.DataFrame(results)\n",
    "\n",
    "    # AIC가 가장 낮은 것을 선택\n",
    "    best_model = models.loc[models['AIC'].argmin()] # index\n",
    "    toc = time.time()\n",
    "    print(\"Processed \", models.shape[0], \"models on\", len(predictors)+1, \n",
    "          \"predictors in\", round((toc-tic), 4))\n",
    "    print('Selected predictors:',best_model['model'].model.exog_names,\n",
    "          ' AIC:', round(best_model[0], 4) )\n",
    "    \n",
    "    return best_model"
   ]
  },
  {
   "cell_type": "markdown",
   "metadata": {},
   "source": [
    "### forward_model: 전진선택법 모델"
   ]
  },
  {
   "cell_type": "code",
   "execution_count": 73,
   "metadata": {
    "collapsed": true
   },
   "outputs": [],
   "source": [
    "def forward_model(X,y):\n",
    "    Fmodels = pd.DataFrame(columns=[\"AIC\", \"model\"])\n",
    "    tic = time.time()\n",
    "    # 미리 정의된 데이터 변수\n",
    "    predictors = []\n",
    "    \n",
    "    # 변수 1~10개 : 0~9 -> 1~10\n",
    "    for i in range(1, len(X.columns) + 1):\n",
    "        Forward_result = forward(X=X,y=y,predictors=predictors)\n",
    "        if i > 1:\n",
    "            if Forward_result['AIC'] > Fmodel_before:\n",
    "                break\n",
    "        Fmodels.loc[i] = Forward_result\n",
    "        predictors = Fmodels.loc[i][\"model\"].model.exog_names\n",
    "        Fmodel_before = Fmodels.loc[i][\"AIC\"]\n",
    "    toc = time.time()\n",
    "    \n",
    "    print(\"Total elapsed time:\", round((toc-tic), 4), \"seconds.\")\n",
    "    return(Fmodels['model'][len(Fmodels['model'])])"
   ]
  },
  {
   "cell_type": "code",
   "execution_count": 74,
   "metadata": {
    "collapsed": false,
    "scrolled": false
   },
   "outputs": [
    {
     "name": "stdout",
     "output_type": "stream",
     "text": [
      "Processed  36 models on 1 predictors in 0.0862\n",
      "Selected predictors: ['Weight']  AIC: 19181.9202\n",
      "Processed  35 models on 2 predictors in 0.1011\n",
      "Selected predictors: ['Weight', 'Age_08_04']  AIC: 17749.4594\n",
      "Processed  34 models on 3 predictors in 0.0747\n",
      "Selected predictors: ['Weight', 'Age_08_04', 'KM']  AIC: 17513.3728\n",
      "Processed  33 models on 4 predictors in 0.0664\n",
      "Selected predictors: ['Weight', 'Age_08_04', 'KM', 'Automatic_airco']  AIC: 17326.819\n",
      "Processed  32 models on 5 predictors in 0.0551\n",
      "Selected predictors: ['Weight', 'Age_08_04', 'KM', 'Automatic_airco', 'HP']  AIC: 17238.1623\n",
      "Processed  31 models on 6 predictors in 0.0565\n",
      "Selected predictors: ['Weight', 'Age_08_04', 'KM', 'Automatic_airco', 'HP', 'Mfg_Month']  AIC: 17189.687\n",
      "Processed  30 models on 7 predictors in 0.0595\n",
      "Selected predictors: ['Weight', 'Age_08_04', 'KM', 'Automatic_airco', 'HP', 'Mfg_Month', 'Powered_Windows']  AIC: 17164.5441\n",
      "Processed  29 models on 8 predictors in 0.0711\n",
      "Selected predictors: ['Weight', 'Age_08_04', 'KM', 'Automatic_airco', 'HP', 'Mfg_Month', 'Powered_Windows', 'BOVAG_Guarantee']  AIC: 17145.8374\n",
      "Processed  28 models on 9 predictors in 0.0628\n",
      "Selected predictors: ['Weight', 'Age_08_04', 'KM', 'Automatic_airco', 'HP', 'Mfg_Month', 'Powered_Windows', 'BOVAG_Guarantee', 'Guarantee_Period']  AIC: 17121.0829\n",
      "Processed  27 models on 10 predictors in 0.0635\n",
      "Selected predictors: ['Weight', 'Age_08_04', 'KM', 'Automatic_airco', 'HP', 'Mfg_Month', 'Powered_Windows', 'BOVAG_Guarantee', 'Guarantee_Period', 'Quarterly_Tax']  AIC: 17102.308\n",
      "Processed  26 models on 11 predictors in 0.0668\n",
      "Selected predictors: ['Weight', 'Age_08_04', 'KM', 'Automatic_airco', 'HP', 'Mfg_Month', 'Powered_Windows', 'BOVAG_Guarantee', 'Guarantee_Period', 'Quarterly_Tax', 'Petrol']  AIC: 17061.1356\n",
      "Processed  25 models on 12 predictors in 0.0828\n",
      "Selected predictors: ['Weight', 'Age_08_04', 'KM', 'Automatic_airco', 'HP', 'Mfg_Month', 'Powered_Windows', 'BOVAG_Guarantee', 'Guarantee_Period', 'Quarterly_Tax', 'Petrol', 'Sport_Model']  AIC: 17050.7075\n",
      "Processed  24 models on 13 predictors in 0.0685\n",
      "Selected predictors: ['Weight', 'Age_08_04', 'KM', 'Automatic_airco', 'HP', 'Mfg_Month', 'Powered_Windows', 'BOVAG_Guarantee', 'Guarantee_Period', 'Quarterly_Tax', 'Petrol', 'Sport_Model', 'Metallic_Rim']  AIC: 17042.0543\n",
      "Processed  23 models on 14 predictors in 0.072\n",
      "Selected predictors: ['Weight', 'Age_08_04', 'KM', 'Automatic_airco', 'HP', 'Mfg_Month', 'Powered_Windows', 'BOVAG_Guarantee', 'Guarantee_Period', 'Quarterly_Tax', 'Petrol', 'Sport_Model', 'Metallic_Rim', 'Boardcomputer']  AIC: 17035.9194\n",
      "Processed  22 models on 15 predictors in 0.091\n",
      "Selected predictors: ['Weight', 'Age_08_04', 'KM', 'Automatic_airco', 'HP', 'Mfg_Month', 'Powered_Windows', 'BOVAG_Guarantee', 'Guarantee_Period', 'Quarterly_Tax', 'Petrol', 'Sport_Model', 'Metallic_Rim', 'Boardcomputer', 'Diesel']  AIC: 17031.2763\n",
      "Processed  21 models on 16 predictors in 0.0799\n",
      "Selected predictors: ['Weight', 'Age_08_04', 'KM', 'Automatic_airco', 'HP', 'Mfg_Month', 'Powered_Windows', 'BOVAG_Guarantee', 'Guarantee_Period', 'Quarterly_Tax', 'Petrol', 'Sport_Model', 'Metallic_Rim', 'Boardcomputer', 'Diesel', 'cc']  AIC: 17001.2542\n",
      "Processed  20 models on 17 predictors in 0.0838\n",
      "Selected predictors: ['Weight', 'Age_08_04', 'KM', 'Automatic_airco', 'HP', 'Mfg_Month', 'Powered_Windows', 'BOVAG_Guarantee', 'Guarantee_Period', 'Quarterly_Tax', 'Petrol', 'Sport_Model', 'Metallic_Rim', 'Boardcomputer', 'Diesel', 'cc', 'Automatic']  AIC: 16996.5885\n",
      "Processed  19 models on 18 predictors in 0.1051\n",
      "Selected predictors: ['Weight', 'Age_08_04', 'KM', 'Automatic_airco', 'HP', 'Mfg_Month', 'Powered_Windows', 'BOVAG_Guarantee', 'Guarantee_Period', 'Quarterly_Tax', 'Petrol', 'Sport_Model', 'Metallic_Rim', 'Boardcomputer', 'Diesel', 'cc', 'Automatic', 'CNG']  AIC: 16990.346\n",
      "Processed  18 models on 19 predictors in 0.0928\n",
      "Selected predictors: ['Weight', 'Age_08_04', 'KM', 'Automatic_airco', 'HP', 'Mfg_Month', 'Powered_Windows', 'BOVAG_Guarantee', 'Guarantee_Period', 'Quarterly_Tax', 'Petrol', 'Sport_Model', 'Metallic_Rim', 'Boardcomputer', 'Diesel', 'cc', 'Automatic', 'CNG', 'Mfr_Guarantee']  AIC: 16986.0842\n",
      "Processed  17 models on 20 predictors in 0.0976\n",
      "Selected predictors: ['Weight', 'Age_08_04', 'KM', 'Automatic_airco', 'HP', 'Mfg_Month', 'Powered_Windows', 'BOVAG_Guarantee', 'Guarantee_Period', 'Quarterly_Tax', 'Petrol', 'Sport_Model', 'Metallic_Rim', 'Boardcomputer', 'Diesel', 'cc', 'Automatic', 'CNG', 'Mfr_Guarantee', 'ABS']  AIC: 16981.3692\n",
      "Processed  16 models on 21 predictors in 0.12\n",
      "Selected predictors: ['Weight', 'Age_08_04', 'KM', 'Automatic_airco', 'HP', 'Mfg_Month', 'Powered_Windows', 'BOVAG_Guarantee', 'Guarantee_Period', 'Quarterly_Tax', 'Petrol', 'Sport_Model', 'Metallic_Rim', 'Boardcomputer', 'Diesel', 'cc', 'Automatic', 'CNG', 'Mfr_Guarantee', 'ABS', 'Airco']  AIC: 16977.2571\n",
      "Processed  15 models on 22 predictors in 0.1111\n",
      "Selected predictors: ['Weight', 'Age_08_04', 'KM', 'Automatic_airco', 'HP', 'Mfg_Month', 'Powered_Windows', 'BOVAG_Guarantee', 'Guarantee_Period', 'Quarterly_Tax', 'Petrol', 'Sport_Model', 'Metallic_Rim', 'Boardcomputer', 'Diesel', 'cc', 'Automatic', 'CNG', 'Mfr_Guarantee', 'ABS', 'Airco', 'Doors']  AIC: 16973.8631\n",
      "Processed  14 models on 23 predictors in 0.1046\n",
      "Selected predictors: ['Weight', 'Age_08_04', 'KM', 'Automatic_airco', 'HP', 'Mfg_Month', 'Powered_Windows', 'BOVAG_Guarantee', 'Guarantee_Period', 'Quarterly_Tax', 'Petrol', 'Sport_Model', 'Metallic_Rim', 'Boardcomputer', 'Diesel', 'cc', 'Automatic', 'CNG', 'Mfr_Guarantee', 'ABS', 'Airco', 'Doors', 'CD_Player']  AIC: 16972.7196\n",
      "Processed  13 models on 24 predictors in 0.1141\n",
      "Selected predictors: ['Weight', 'Age_08_04', 'KM', 'Automatic_airco', 'HP', 'Mfg_Month', 'Powered_Windows', 'BOVAG_Guarantee', 'Guarantee_Period', 'Quarterly_Tax', 'Petrol', 'Sport_Model', 'Metallic_Rim', 'Boardcomputer', 'Diesel', 'cc', 'Automatic', 'CNG', 'Mfr_Guarantee', 'ABS', 'Airco', 'Doors', 'CD_Player', 'Cylinders']  AIC: 16972.7196\n",
      "Processed  12 models on 25 predictors in 0.07\n",
      "Selected predictors: ['Weight', 'Age_08_04', 'KM', 'Automatic_airco', 'HP', 'Mfg_Month', 'Powered_Windows', 'BOVAG_Guarantee', 'Guarantee_Period', 'Quarterly_Tax', 'Petrol', 'Sport_Model', 'Metallic_Rim', 'Boardcomputer', 'Diesel', 'cc', 'Automatic', 'CNG', 'Mfr_Guarantee', 'ABS', 'Airco', 'Doors', 'CD_Player', 'Cylinders', 'Mfg_Year']  AIC: 16972.7196\n",
      "Processed  11 models on 26 predictors in 0.0823\n",
      "Selected predictors: ['Weight', 'Age_08_04', 'KM', 'Automatic_airco', 'HP', 'Mfg_Month', 'Powered_Windows', 'BOVAG_Guarantee', 'Guarantee_Period', 'Quarterly_Tax', 'Petrol', 'Sport_Model', 'Metallic_Rim', 'Boardcomputer', 'Diesel', 'cc', 'Automatic', 'CNG', 'Mfr_Guarantee', 'ABS', 'Airco', 'Doors', 'CD_Player', 'Cylinders', 'Mfg_Year', 'Tow_Bar']  AIC: 16972.7466\n",
      "Total elapsed time: 2.2274 seconds.\n"
     ]
    }
   ],
   "source": [
    "Forward_best_model = forward_model(X=train_x, y= train_y)"
   ]
  },
  {
   "cell_type": "code",
   "execution_count": 75,
   "metadata": {
    "collapsed": false
   },
   "outputs": [
    {
     "data": {
      "text/plain": [
       "16972.719613484111"
      ]
     },
     "execution_count": 75,
     "metadata": {},
     "output_type": "execute_result"
    }
   ],
   "source": [
    "Forward_best_model.aic"
   ]
  },
  {
   "cell_type": "markdown",
   "metadata": {},
   "source": [
    "## 후진소거법"
   ]
  },
  {
   "cell_type": "markdown",
   "metadata": {},
   "source": [
    "### backward: 후진소거법(step=1)"
   ]
  },
  {
   "cell_type": "code",
   "execution_count": 76,
   "metadata": {
    "collapsed": true
   },
   "outputs": [],
   "source": [
    "def backward(X,y,predictors):\n",
    "    tic = time.time()\n",
    "    results = []\n",
    "    # 데이터 변수들이 미리정의된 predictors 조합 확인\n",
    "    for combo in itertools.combinations(predictors, len(predictors) - 1):\n",
    "        results.append(processSubset(X=X, y=y,feature_set=combo))\n",
    "    models = pd.DataFrame(results)\n",
    "    # 가장 낮은 AIC를 가진 모델을 선택\n",
    "    best_model = models.loc[models['AIC'].argmin()]\n",
    "    toc = time.time()\n",
    "    print(\"Processed \", models.shape[0], \"models on\", len(predictors) - 1, \"predictors in\",\n",
    "          round((toc - tic), 4) )\n",
    "    print('Selected predictors:',best_model['model'].model.exog_names,\n",
    "          ' AIC:', round(best_model[0], 4) )\n",
    "    return best_model"
   ]
  },
  {
   "cell_type": "markdown",
   "metadata": {},
   "source": [
    "### backward: 후진소거법모델"
   ]
  },
  {
   "cell_type": "code",
   "execution_count": 77,
   "metadata": {
    "collapsed": true
   },
   "outputs": [],
   "source": [
    "def backward_model(X, y):\n",
    "    Bmodels = pd.DataFrame(columns=[\"AIC\", \"model\"], index = range(1,len(X.columns)))\n",
    "    tic = time.time()\n",
    "    predictors = X.columns\n",
    "    Bmodel_before = processSubset(X,y,predictors)['AIC']\n",
    "    while (len(predictors) > 1):\n",
    "        Backward_result = backward(X=train_x, y= train_y, predictors = predictors)\n",
    "        if Backward_result['AIC'] > Bmodel_before:\n",
    "            break\n",
    "        Bmodels.loc[len(predictors) - 1] = Backward_result\n",
    "        predictors = Bmodels.loc[len(predictors) - 1][\"model\"].model.exog_names\n",
    "        Bmodel_before = Backward_result['AIC']\n",
    "    toc = time.time()\n",
    "    print(\"Total elapsed time:\", round((toc - tic), 4), \"seconds.\")\n",
    "    return (Bmodels['model'].dropna().iloc[0])"
   ]
  },
  {
   "cell_type": "code",
   "execution_count": 78,
   "metadata": {
    "collapsed": false
   },
   "outputs": [
    {
     "name": "stdout",
     "output_type": "stream",
     "text": [
      "Processed  36 models on 35 predictors in 0.3865\n",
      "Selected predictors: ['ABS', 'Age_08_04', 'Airbag_1', 'Airbag_2', 'Airco', 'Automatic', 'Automatic_airco', 'BOVAG_Guarantee', 'Backseat_Divider', 'Boardcomputer', 'CD_Player', 'CNG', 'Central_Lock', 'Cylinders', 'Diesel', 'Doors', 'Gears', 'Guarantee_Period', 'HP', 'KM', 'Met_Color', 'Metallic_Rim', 'Mfg_Month', 'Mfg_Year', 'Mfr_Guarantee', 'Petrol', 'Power_Steering', 'Powered_Windows', 'Quarterly_Tax', 'Radio', 'Radio_cassette', 'Sport_Model', 'Tow_Bar', 'Weight', 'cc']  AIC: 16987.9164\n",
      "Processed  35 models on 34 predictors in 0.3295\n",
      "Selected predictors: ['ABS', 'Age_08_04', 'Airbag_1', 'Airbag_2', 'Airco', 'Automatic', 'Automatic_airco', 'BOVAG_Guarantee', 'Backseat_Divider', 'Boardcomputer', 'CD_Player', 'CNG', 'Cylinders', 'Diesel', 'Doors', 'Gears', 'Guarantee_Period', 'HP', 'KM', 'Met_Color', 'Metallic_Rim', 'Mfg_Month', 'Mfg_Year', 'Mfr_Guarantee', 'Petrol', 'Power_Steering', 'Powered_Windows', 'Quarterly_Tax', 'Radio', 'Radio_cassette', 'Sport_Model', 'Tow_Bar', 'Weight', 'cc']  AIC: 16985.9579\n",
      "Processed  34 models on 33 predictors in 0.3081\n",
      "Selected predictors: ['ABS', 'Age_08_04', 'Airbag_1', 'Airbag_2', 'Airco', 'Automatic', 'Automatic_airco', 'BOVAG_Guarantee', 'Backseat_Divider', 'Boardcomputer', 'CD_Player', 'CNG', 'Cylinders', 'Diesel', 'Doors', 'Guarantee_Period', 'HP', 'KM', 'Met_Color', 'Metallic_Rim', 'Mfg_Month', 'Mfg_Year', 'Mfr_Guarantee', 'Petrol', 'Power_Steering', 'Powered_Windows', 'Quarterly_Tax', 'Radio', 'Radio_cassette', 'Sport_Model', 'Tow_Bar', 'Weight', 'cc']  AIC: 16984.0013\n",
      "Processed  33 models on 32 predictors in 0.4329\n",
      "Selected predictors: ['ABS', 'Age_08_04', 'Airbag_1', 'Airbag_2', 'Airco', 'Automatic', 'Automatic_airco', 'BOVAG_Guarantee', 'Backseat_Divider', 'Boardcomputer', 'CD_Player', 'CNG', 'Cylinders', 'Diesel', 'Doors', 'Guarantee_Period', 'HP', 'KM', 'Metallic_Rim', 'Mfg_Month', 'Mfg_Year', 'Mfr_Guarantee', 'Petrol', 'Power_Steering', 'Powered_Windows', 'Quarterly_Tax', 'Radio', 'Radio_cassette', 'Sport_Model', 'Tow_Bar', 'Weight', 'cc']  AIC: 16982.0719\n",
      "Processed  32 models on 31 predictors in 0.2687\n",
      "Selected predictors: ['ABS', 'Age_08_04', 'Airbag_1', 'Airbag_2', 'Airco', 'Automatic', 'Automatic_airco', 'BOVAG_Guarantee', 'Boardcomputer', 'CD_Player', 'CNG', 'Cylinders', 'Diesel', 'Doors', 'Guarantee_Period', 'HP', 'KM', 'Metallic_Rim', 'Mfg_Month', 'Mfg_Year', 'Mfr_Guarantee', 'Petrol', 'Power_Steering', 'Powered_Windows', 'Quarterly_Tax', 'Radio', 'Radio_cassette', 'Sport_Model', 'Tow_Bar', 'Weight', 'cc']  AIC: 16980.2348\n",
      "Processed  31 models on 30 predictors in 0.2493\n",
      "Selected predictors: ['ABS', 'Age_08_04', 'Airbag_2', 'Airco', 'Automatic', 'Automatic_airco', 'BOVAG_Guarantee', 'Boardcomputer', 'CD_Player', 'CNG', 'Cylinders', 'Diesel', 'Doors', 'Guarantee_Period', 'HP', 'KM', 'Metallic_Rim', 'Mfg_Month', 'Mfg_Year', 'Mfr_Guarantee', 'Petrol', 'Power_Steering', 'Powered_Windows', 'Quarterly_Tax', 'Radio', 'Radio_cassette', 'Sport_Model', 'Tow_Bar', 'Weight', 'cc']  AIC: 16978.4367\n",
      "Processed  30 models on 29 predictors in 0.2166\n",
      "Selected predictors: ['ABS', 'Age_08_04', 'Airbag_2', 'Airco', 'Automatic', 'Automatic_airco', 'BOVAG_Guarantee', 'Boardcomputer', 'CD_Player', 'CNG', 'Cylinders', 'Diesel', 'Doors', 'Guarantee_Period', 'HP', 'KM', 'Metallic_Rim', 'Mfg_Month', 'Mfg_Year', 'Mfr_Guarantee', 'Petrol', 'Power_Steering', 'Powered_Windows', 'Quarterly_Tax', 'Radio', 'Sport_Model', 'Tow_Bar', 'Weight', 'cc']  AIC: 16976.7076\n",
      "Processed  29 models on 28 predictors in 0.2098\n",
      "Selected predictors: ['ABS', 'Age_08_04', 'Airbag_2', 'Airco', 'Automatic', 'Automatic_airco', 'BOVAG_Guarantee', 'Boardcomputer', 'CD_Player', 'CNG', 'Cylinders', 'Diesel', 'Doors', 'Guarantee_Period', 'HP', 'KM', 'Metallic_Rim', 'Mfg_Month', 'Mfg_Year', 'Mfr_Guarantee', 'Petrol', 'Power_Steering', 'Powered_Windows', 'Quarterly_Tax', 'Sport_Model', 'Tow_Bar', 'Weight', 'cc']  AIC: 16974.7474\n",
      "Processed  28 models on 27 predictors in 0.1942\n",
      "Selected predictors: ['ABS', 'Age_08_04', 'Airco', 'Automatic', 'Automatic_airco', 'BOVAG_Guarantee', 'Boardcomputer', 'CD_Player', 'CNG', 'Cylinders', 'Diesel', 'Doors', 'Guarantee_Period', 'HP', 'KM', 'Metallic_Rim', 'Mfg_Month', 'Mfg_Year', 'Mfr_Guarantee', 'Petrol', 'Power_Steering', 'Powered_Windows', 'Quarterly_Tax', 'Sport_Model', 'Tow_Bar', 'Weight', 'cc']  AIC: 16973.6876\n",
      "Processed  27 models on 26 predictors in 0.2276\n",
      "Selected predictors: ['ABS', 'Age_08_04', 'Airco', 'Automatic', 'Automatic_airco', 'BOVAG_Guarantee', 'Boardcomputer', 'CD_Player', 'CNG', 'Cylinders', 'Diesel', 'Doors', 'Guarantee_Period', 'HP', 'KM', 'Metallic_Rim', 'Mfg_Month', 'Mfg_Year', 'Mfr_Guarantee', 'Petrol', 'Powered_Windows', 'Quarterly_Tax', 'Sport_Model', 'Tow_Bar', 'Weight', 'cc']  AIC: 16972.7466\n",
      "Processed  26 models on 25 predictors in 0.1859\n",
      "Selected predictors: ['ABS', 'Age_08_04', 'Airco', 'Automatic', 'Automatic_airco', 'BOVAG_Guarantee', 'Boardcomputer', 'CD_Player', 'CNG', 'Cylinders', 'Diesel', 'Doors', 'Guarantee_Period', 'HP', 'KM', 'Metallic_Rim', 'Mfg_Month', 'Mfg_Year', 'Mfr_Guarantee', 'Petrol', 'Powered_Windows', 'Quarterly_Tax', 'Sport_Model', 'Weight', 'cc']  AIC: 16972.7196\n",
      "Processed  25 models on 24 predictors in 0.188\n",
      "Selected predictors: ['ABS', 'Airco', 'Automatic', 'Automatic_airco', 'BOVAG_Guarantee', 'Boardcomputer', 'CD_Player', 'CNG', 'Cylinders', 'Diesel', 'Doors', 'Guarantee_Period', 'HP', 'KM', 'Metallic_Rim', 'Mfg_Month', 'Mfg_Year', 'Mfr_Guarantee', 'Petrol', 'Powered_Windows', 'Quarterly_Tax', 'Sport_Model', 'Weight', 'cc']  AIC: 16972.7196\n",
      "Processed  24 models on 23 predictors in 0.145\n",
      "Selected predictors: ['ABS', 'Airco', 'Automatic', 'Automatic_airco', 'BOVAG_Guarantee', 'Boardcomputer', 'CD_Player', 'CNG', 'Diesel', 'Doors', 'Guarantee_Period', 'HP', 'KM', 'Metallic_Rim', 'Mfg_Month', 'Mfg_Year', 'Mfr_Guarantee', 'Petrol', 'Powered_Windows', 'Quarterly_Tax', 'Sport_Model', 'Weight', 'cc']  AIC: 16972.7196\n",
      "Processed  23 models on 22 predictors in 0.2032\n",
      "Selected predictors: ['ABS', 'Airco', 'Automatic', 'Automatic_airco', 'BOVAG_Guarantee', 'Boardcomputer', 'CNG', 'Diesel', 'Doors', 'Guarantee_Period', 'HP', 'KM', 'Metallic_Rim', 'Mfg_Month', 'Mfg_Year', 'Mfr_Guarantee', 'Petrol', 'Powered_Windows', 'Quarterly_Tax', 'Sport_Model', 'Weight', 'cc']  AIC: 16973.8631\n",
      "Total elapsed time: 3.5735 seconds.\n"
     ]
    }
   ],
   "source": [
    "Backward_best_model = backward_model(X=train_x, y=train_y)"
   ]
  },
  {
   "cell_type": "code",
   "execution_count": 79,
   "metadata": {
    "collapsed": false
   },
   "outputs": [
    {
     "data": {
      "text/plain": [
       "16972.71961348406"
      ]
     },
     "execution_count": 79,
     "metadata": {},
     "output_type": "execute_result"
    }
   ],
   "source": [
    "Backward_best_model.aic"
   ]
  },
  {
   "cell_type": "markdown",
   "metadata": {},
   "source": [
    "## 단계적 선택법"
   ]
  },
  {
   "cell_type": "markdown",
   "metadata": {},
   "source": [
    "### stepwise_model: 단계적 선택법 모델"
   ]
  },
  {
   "cell_type": "code",
   "execution_count": 80,
   "metadata": {
    "collapsed": true
   },
   "outputs": [],
   "source": [
    "def Stepwise_model(X,y):\n",
    "    Stepmodels = pd.DataFrame(columns=[\"AIC\", \"model\"])\n",
    "    tic = time.time()\n",
    "    predictors = []\n",
    "    # 변수 1~10개 : 0~9 -> 1~10\n",
    "    for i in range(1, len(X.columns) + 1):\n",
    "        Forward_result = forward(X=X, y=y, predictors=predictors)\n",
    "        Stepmodels.loc[i] = Forward_result\n",
    "        predictors = Stepmodels.loc[i][\"model\"].model.exog_names\n",
    "        if i > 1:\n",
    "            if Forward_result['AIC'] < before:\n",
    "                Backward_result = backward(X=X, y=y, predictors=predictors)\n",
    "                if Backward_result['AIC']< Forward_result['AIC']:\n",
    "                    Stepmodels.loc[i] = Backward_result\n",
    "                    predictors = Stepmodels.loc[i][\"model\"].model.exog_names\n",
    "                    before = Stepmodels.loc[i][\"AIC\"]\n",
    "            else: break\n",
    "        Stepmodels.loc[i] = Forward_result\n",
    "        predictors = Stepmodels.loc[i][\"model\"].model.exog_names\n",
    "        before = Stepmodels.loc[i][\"AIC\"]\n",
    "\n",
    "\n",
    "    toc = time.time()\n",
    "    print(\"Total elapsed time:\", round((toc - tic), 4), \"seconds.\")\n",
    "    return (Stepmodels['model'][len(Stepmodels['model'])])"
   ]
  },
  {
   "cell_type": "code",
   "execution_count": 81,
   "metadata": {
    "collapsed": false,
    "scrolled": false
   },
   "outputs": [
    {
     "name": "stdout",
     "output_type": "stream",
     "text": [
      "Processed  36 models on 1 predictors in 0.074\n",
      "Selected predictors: ['Weight']  AIC: 19181.9202\n",
      "Processed  35 models on 2 predictors in 0.0646\n",
      "Selected predictors: ['Weight', 'Age_08_04']  AIC: 17749.4594\n",
      "Processed  2 models on 1 predictors in 0.0044\n",
      "Selected predictors: ['Weight']  AIC: 19181.9202\n",
      "Processed  34 models on 3 predictors in 0.0517\n",
      "Selected predictors: ['Weight', 'Age_08_04', 'KM']  AIC: 17513.3728\n",
      "Processed  3 models on 2 predictors in 0.0046\n",
      "Selected predictors: ['Weight', 'Age_08_04']  AIC: 17749.4594\n",
      "Processed  33 models on 4 predictors in 0.0541\n",
      "Selected predictors: ['Weight', 'Age_08_04', 'KM', 'Automatic_airco']  AIC: 17326.819\n",
      "Processed  4 models on 3 predictors in 0.0063\n",
      "Selected predictors: ['Weight', 'Age_08_04', 'KM']  AIC: 17513.3728\n",
      "Processed  32 models on 5 predictors in 0.0649\n",
      "Selected predictors: ['Weight', 'Age_08_04', 'KM', 'Automatic_airco', 'HP']  AIC: 17238.1623\n",
      "Processed  5 models on 4 predictors in 0.0112\n",
      "Selected predictors: ['Weight', 'Age_08_04', 'KM', 'Automatic_airco']  AIC: 17326.819\n",
      "Processed  31 models on 6 predictors in 0.059\n",
      "Selected predictors: ['Weight', 'Age_08_04', 'KM', 'Automatic_airco', 'HP', 'Mfg_Month']  AIC: 17189.687\n",
      "Processed  6 models on 5 predictors in 0.0102\n",
      "Selected predictors: ['Weight', 'Age_08_04', 'KM', 'Automatic_airco', 'HP']  AIC: 17238.1623\n",
      "Processed  30 models on 7 predictors in 0.0575\n",
      "Selected predictors: ['Weight', 'Age_08_04', 'KM', 'Automatic_airco', 'HP', 'Mfg_Month', 'Powered_Windows']  AIC: 17164.5441\n",
      "Processed  7 models on 6 predictors in 0.0128\n",
      "Selected predictors: ['Weight', 'Age_08_04', 'KM', 'Automatic_airco', 'HP', 'Mfg_Month']  AIC: 17189.687\n",
      "Processed  29 models on 8 predictors in 0.0627\n",
      "Selected predictors: ['Weight', 'Age_08_04', 'KM', 'Automatic_airco', 'HP', 'Mfg_Month', 'Powered_Windows', 'BOVAG_Guarantee']  AIC: 17145.8374\n",
      "Processed  8 models on 7 predictors in 0.0225\n",
      "Selected predictors: ['Weight', 'Age_08_04', 'KM', 'Automatic_airco', 'HP', 'Mfg_Month', 'Powered_Windows']  AIC: 17164.5441\n",
      "Processed  28 models on 9 predictors in 0.0635\n",
      "Selected predictors: ['Weight', 'Age_08_04', 'KM', 'Automatic_airco', 'HP', 'Mfg_Month', 'Powered_Windows', 'BOVAG_Guarantee', 'Guarantee_Period']  AIC: 17121.0829\n",
      "Processed  9 models on 8 predictors in 0.0186\n",
      "Selected predictors: ['Weight', 'Age_08_04', 'KM', 'Automatic_airco', 'HP', 'Mfg_Month', 'Powered_Windows', 'BOVAG_Guarantee']  AIC: 17145.8374\n",
      "Processed  27 models on 10 predictors in 0.0735\n",
      "Selected predictors: ['Weight', 'Age_08_04', 'KM', 'Automatic_airco', 'HP', 'Mfg_Month', 'Powered_Windows', 'BOVAG_Guarantee', 'Guarantee_Period', 'Quarterly_Tax']  AIC: 17102.308\n",
      "Processed  10 models on 9 predictors in 0.0286\n",
      "Selected predictors: ['Weight', 'Age_08_04', 'KM', 'Automatic_airco', 'HP', 'Mfg_Month', 'Powered_Windows', 'BOVAG_Guarantee', 'Guarantee_Period']  AIC: 17121.0829\n",
      "Processed  26 models on 11 predictors in 0.0796\n",
      "Selected predictors: ['Weight', 'Age_08_04', 'KM', 'Automatic_airco', 'HP', 'Mfg_Month', 'Powered_Windows', 'BOVAG_Guarantee', 'Guarantee_Period', 'Quarterly_Tax', 'Petrol']  AIC: 17061.1356\n",
      "Processed  11 models on 10 predictors in 0.0308\n",
      "Selected predictors: ['Weight', 'Age_08_04', 'KM', 'Automatic_airco', 'HP', 'Mfg_Month', 'Powered_Windows', 'Guarantee_Period', 'Quarterly_Tax', 'Petrol']  AIC: 17073.2219\n",
      "Processed  25 models on 12 predictors in 0.069\n",
      "Selected predictors: ['Weight', 'Age_08_04', 'KM', 'Automatic_airco', 'HP', 'Mfg_Month', 'Powered_Windows', 'BOVAG_Guarantee', 'Guarantee_Period', 'Quarterly_Tax', 'Petrol', 'Sport_Model']  AIC: 17050.7075\n",
      "Processed  12 models on 11 predictors in 0.0399\n",
      "Selected predictors: ['Weight', 'Age_08_04', 'KM', 'Automatic_airco', 'HP', 'Mfg_Month', 'Powered_Windows', 'Guarantee_Period', 'Quarterly_Tax', 'Petrol', 'Sport_Model']  AIC: 17059.8929\n",
      "Processed  24 models on 13 predictors in 0.0876\n",
      "Selected predictors: ['Weight', 'Age_08_04', 'KM', 'Automatic_airco', 'HP', 'Mfg_Month', 'Powered_Windows', 'BOVAG_Guarantee', 'Guarantee_Period', 'Quarterly_Tax', 'Petrol', 'Sport_Model', 'Metallic_Rim']  AIC: 17042.0543\n",
      "Processed  13 models on 12 predictors in 0.0388\n",
      "Selected predictors: ['Weight', 'Age_08_04', 'KM', 'Automatic_airco', 'HP', 'Mfg_Month', 'Powered_Windows', 'Guarantee_Period', 'Quarterly_Tax', 'Petrol', 'Sport_Model', 'Metallic_Rim']  AIC: 17049.9909\n",
      "Processed  23 models on 14 predictors in 0.0738\n",
      "Selected predictors: ['Weight', 'Age_08_04', 'KM', 'Automatic_airco', 'HP', 'Mfg_Month', 'Powered_Windows', 'BOVAG_Guarantee', 'Guarantee_Period', 'Quarterly_Tax', 'Petrol', 'Sport_Model', 'Metallic_Rim', 'Boardcomputer']  AIC: 17035.9194\n",
      "Processed  14 models on 13 predictors in 0.0706\n",
      "Selected predictors: ['Weight', 'Age_08_04', 'KM', 'Automatic_airco', 'HP', 'Mfg_Month', 'Powered_Windows', 'BOVAG_Guarantee', 'Guarantee_Period', 'Quarterly_Tax', 'Petrol', 'Sport_Model', 'Metallic_Rim']  AIC: 17042.0543\n",
      "Processed  22 models on 15 predictors in 0.0775\n",
      "Selected predictors: ['Weight', 'Age_08_04', 'KM', 'Automatic_airco', 'HP', 'Mfg_Month', 'Powered_Windows', 'BOVAG_Guarantee', 'Guarantee_Period', 'Quarterly_Tax', 'Petrol', 'Sport_Model', 'Metallic_Rim', 'Boardcomputer', 'Diesel']  AIC: 17031.2763\n",
      "Processed  15 models on 14 predictors in 0.0484\n",
      "Selected predictors: ['Weight', 'Age_08_04', 'KM', 'Automatic_airco', 'HP', 'Mfg_Month', 'Powered_Windows', 'BOVAG_Guarantee', 'Guarantee_Period', 'Quarterly_Tax', 'Petrol', 'Sport_Model', 'Metallic_Rim', 'Boardcomputer']  AIC: 17035.9194\n",
      "Processed  21 models on 16 predictors in 0.0823\n",
      "Selected predictors: ['Weight', 'Age_08_04', 'KM', 'Automatic_airco', 'HP', 'Mfg_Month', 'Powered_Windows', 'BOVAG_Guarantee', 'Guarantee_Period', 'Quarterly_Tax', 'Petrol', 'Sport_Model', 'Metallic_Rim', 'Boardcomputer', 'Diesel', 'cc']  AIC: 17001.2542\n",
      "Processed  16 models on 15 predictors in 0.0698\n",
      "Selected predictors: ['Weight', 'Age_08_04', 'KM', 'Automatic_airco', 'HP', 'Mfg_Month', 'Powered_Windows', 'BOVAG_Guarantee', 'Guarantee_Period', 'Quarterly_Tax', 'Petrol', 'Sport_Model', 'Boardcomputer', 'Diesel', 'cc']  AIC: 17006.5277\n",
      "Processed  20 models on 17 predictors in 0.0851\n",
      "Selected predictors: ['Weight', 'Age_08_04', 'KM', 'Automatic_airco', 'HP', 'Mfg_Month', 'Powered_Windows', 'BOVAG_Guarantee', 'Guarantee_Period', 'Quarterly_Tax', 'Petrol', 'Sport_Model', 'Metallic_Rim', 'Boardcomputer', 'Diesel', 'cc', 'Automatic']  AIC: 16996.5885\n",
      "Processed  17 models on 16 predictors in 0.0767\n",
      "Selected predictors: ['Weight', 'Age_08_04', 'KM', 'Automatic_airco', 'HP', 'Mfg_Month', 'Powered_Windows', 'BOVAG_Guarantee', 'Guarantee_Period', 'Quarterly_Tax', 'Petrol', 'Sport_Model', 'Metallic_Rim', 'Boardcomputer', 'Diesel', 'cc']  AIC: 17001.2542\n",
      "Processed  19 models on 18 predictors in 0.123\n",
      "Selected predictors: ['Weight', 'Age_08_04', 'KM', 'Automatic_airco', 'HP', 'Mfg_Month', 'Powered_Windows', 'BOVAG_Guarantee', 'Guarantee_Period', 'Quarterly_Tax', 'Petrol', 'Sport_Model', 'Metallic_Rim', 'Boardcomputer', 'Diesel', 'cc', 'Automatic', 'CNG']  AIC: 16990.346\n",
      "Processed  18 models on 17 predictors in 0.1478\n",
      "Selected predictors: ['Weight', 'Age_08_04', 'KM', 'Automatic_airco', 'HP', 'Mfg_Month', 'Powered_Windows', 'BOVAG_Guarantee', 'Guarantee_Period', 'Quarterly_Tax', 'Petrol', 'Sport_Model', 'Boardcomputer', 'Diesel', 'cc', 'Automatic', 'CNG']  AIC: 16996.5435\n",
      "Processed  18 models on 19 predictors in 0.3233\n",
      "Selected predictors: ['Weight', 'Age_08_04', 'KM', 'Automatic_airco', 'HP', 'Mfg_Month', 'Powered_Windows', 'BOVAG_Guarantee', 'Guarantee_Period', 'Quarterly_Tax', 'Petrol', 'Sport_Model', 'Metallic_Rim', 'Boardcomputer', 'Diesel', 'cc', 'Automatic', 'CNG', 'Mfr_Guarantee']  AIC: 16986.0842\n",
      "Processed  19 models on 18 predictors in 0.1639\n",
      "Selected predictors: ['Weight', 'Age_08_04', 'KM', 'Automatic_airco', 'HP', 'Mfg_Month', 'Powered_Windows', 'BOVAG_Guarantee', 'Guarantee_Period', 'Quarterly_Tax', 'Petrol', 'Sport_Model', 'Metallic_Rim', 'Boardcomputer', 'Diesel', 'cc', 'Automatic', 'CNG']  AIC: 16990.346\n",
      "Processed  17 models on 20 predictors in 0.1269\n",
      "Selected predictors: ['Weight', 'Age_08_04', 'KM', 'Automatic_airco', 'HP', 'Mfg_Month', 'Powered_Windows', 'BOVAG_Guarantee', 'Guarantee_Period', 'Quarterly_Tax', 'Petrol', 'Sport_Model', 'Metallic_Rim', 'Boardcomputer', 'Diesel', 'cc', 'Automatic', 'CNG', 'Mfr_Guarantee', 'ABS']  AIC: 16981.3692\n",
      "Processed  20 models on 19 predictors in 0.1146\n",
      "Selected predictors: ['Weight', 'Age_08_04', 'KM', 'Automatic_airco', 'HP', 'Mfg_Month', 'Powered_Windows', 'BOVAG_Guarantee', 'Guarantee_Period', 'Quarterly_Tax', 'Petrol', 'Sport_Model', 'Metallic_Rim', 'Boardcomputer', 'Diesel', 'cc', 'Automatic', 'CNG', 'Mfr_Guarantee']  AIC: 16986.0842\n",
      "Processed  16 models on 21 predictors in 0.1161\n",
      "Selected predictors: ['Weight', 'Age_08_04', 'KM', 'Automatic_airco', 'HP', 'Mfg_Month', 'Powered_Windows', 'BOVAG_Guarantee', 'Guarantee_Period', 'Quarterly_Tax', 'Petrol', 'Sport_Model', 'Metallic_Rim', 'Boardcomputer', 'Diesel', 'cc', 'Automatic', 'CNG', 'Mfr_Guarantee', 'ABS', 'Airco']  AIC: 16977.2571\n",
      "Processed  21 models on 20 predictors in 0.3707\n",
      "Selected predictors: ['Weight', 'Age_08_04', 'KM', 'Automatic_airco', 'HP', 'Mfg_Month', 'Powered_Windows', 'BOVAG_Guarantee', 'Guarantee_Period', 'Quarterly_Tax', 'Petrol', 'Sport_Model', 'Metallic_Rim', 'Boardcomputer', 'Diesel', 'cc', 'Automatic', 'CNG', 'Mfr_Guarantee', 'ABS']  AIC: 16981.3692\n",
      "Processed  15 models on 22 predictors in 0.1089\n",
      "Selected predictors: ['Weight', 'Age_08_04', 'KM', 'Automatic_airco', 'HP', 'Mfg_Month', 'Powered_Windows', 'BOVAG_Guarantee', 'Guarantee_Period', 'Quarterly_Tax', 'Petrol', 'Sport_Model', 'Metallic_Rim', 'Boardcomputer', 'Diesel', 'cc', 'Automatic', 'CNG', 'Mfr_Guarantee', 'ABS', 'Airco', 'Doors']  AIC: 16973.8631\n",
      "Processed  22 models on 21 predictors in 0.1665\n",
      "Selected predictors: ['Weight', 'Age_08_04', 'KM', 'Automatic_airco', 'HP', 'Mfg_Month', 'Powered_Windows', 'BOVAG_Guarantee', 'Guarantee_Period', 'Quarterly_Tax', 'Petrol', 'Sport_Model', 'Metallic_Rim', 'Boardcomputer', 'Diesel', 'cc', 'Automatic', 'CNG', 'Mfr_Guarantee', 'ABS', 'Airco']  AIC: 16977.2571\n",
      "Processed  14 models on 23 predictors in 0.1151\n",
      "Selected predictors: ['Weight', 'Age_08_04', 'KM', 'Automatic_airco', 'HP', 'Mfg_Month', 'Powered_Windows', 'BOVAG_Guarantee', 'Guarantee_Period', 'Quarterly_Tax', 'Petrol', 'Sport_Model', 'Metallic_Rim', 'Boardcomputer', 'Diesel', 'cc', 'Automatic', 'CNG', 'Mfr_Guarantee', 'ABS', 'Airco', 'Doors', 'CD_Player']  AIC: 16972.7196\n",
      "Processed  23 models on 22 predictors in 0.1838\n",
      "Selected predictors: ['Weight', 'Age_08_04', 'KM', 'Automatic_airco', 'HP', 'Mfg_Month', 'Powered_Windows', 'BOVAG_Guarantee', 'Guarantee_Period', 'Quarterly_Tax', 'Petrol', 'Sport_Model', 'Metallic_Rim', 'Boardcomputer', 'Diesel', 'cc', 'Automatic', 'CNG', 'Mfr_Guarantee', 'ABS', 'Airco', 'Doors']  AIC: 16973.8631\n",
      "Processed  13 models on 24 predictors in 0.103\n",
      "Selected predictors: ['Weight', 'Age_08_04', 'KM', 'Automatic_airco', 'HP', 'Mfg_Month', 'Powered_Windows', 'BOVAG_Guarantee', 'Guarantee_Period', 'Quarterly_Tax', 'Petrol', 'Sport_Model', 'Metallic_Rim', 'Boardcomputer', 'Diesel', 'cc', 'Automatic', 'CNG', 'Mfr_Guarantee', 'ABS', 'Airco', 'Doors', 'CD_Player', 'Cylinders']  AIC: 16972.7196\n",
      "Total elapsed time: 3.9581 seconds.\n"
     ]
    }
   ],
   "source": [
    "Stepwise_best_model=Stepwise_model(X=train_x,y=train_y)"
   ]
  },
  {
   "cell_type": "code",
   "execution_count": 82,
   "metadata": {
    "collapsed": false
   },
   "outputs": [
    {
     "data": {
      "text/plain": [
       "16972.719613484111"
      ]
     },
     "execution_count": 82,
     "metadata": {},
     "output_type": "execute_result"
    }
   ],
   "source": [
    "Stepwise_best_model.aic"
   ]
  },
  {
   "cell_type": "markdown",
   "metadata": {},
   "source": [
    "# 성능평가"
   ]
  },
  {
   "cell_type": "code",
   "execution_count": 83,
   "metadata": {
    "collapsed": false
   },
   "outputs": [
    {
     "name": "stdout",
     "output_type": "stream",
     "text": [
      "(25,) (23,) (24,)\n"
     ]
    }
   ],
   "source": [
    "# the number of params\n",
    "print(Forward_best_model.params.shape, \n",
    "      Backward_best_model.params.shape, \n",
    "      Stepwise_best_model.params.shape)"
   ]
  },
  {
   "cell_type": "code",
   "execution_count": 84,
   "metadata": {
    "collapsed": true
   },
   "outputs": [],
   "source": [
    "# 모델에 의해 예측된/추정된 값 <->  test_y\n",
    "pred_y_full = fitted_full_model.predict(test_x)\n",
    "pred_y_forward = Forward_best_model.predict(test_x[Forward_best_model.model.exog_names])\n",
    "pred_y_backward = Backward_best_model.predict(test_x[Backward_best_model.model.exog_names])\n",
    "pred_y_stepwise = Stepwise_best_model.predict(test_x[Stepwise_best_model.model.exog_names])"
   ]
  },
  {
   "cell_type": "code",
   "execution_count": 85,
   "metadata": {
    "collapsed": true
   },
   "outputs": [],
   "source": [
    "perf_mat = pd.DataFrame(columns=[\"ALL\", \"FORWARD\", \"BACKWARD\", \"STEPWISE\"],\n",
    "                        index =['MSE', 'RMSE','MAE', 'MAPE'])"
   ]
  },
  {
   "cell_type": "code",
   "execution_count": 86,
   "metadata": {
    "collapsed": true
   },
   "outputs": [],
   "source": [
    "def mean_absolute_percentage_error(y_true, y_pred):\n",
    "    y_true, y_pred = np.array(y_true), np.array(y_pred)\n",
    "    return np.mean(np.abs((y_true - y_pred) / y_true)) * 100"
   ]
  },
  {
   "cell_type": "code",
   "execution_count": 87,
   "metadata": {
    "collapsed": false
   },
   "outputs": [
    {
     "name": "stdout",
     "output_type": "stream",
     "text": [
      "              ALL      FORWARD     BACKWARD     STEPWISE\n",
      "MSE   7.56418e+06  7.90926e+06  7.90926e+06  7.90926e+06\n",
      "RMSE      2750.31      2812.34      2812.34      2812.34\n",
      "MAE       923.469      929.928      929.928      929.928\n",
      "MAPE       8.7147      8.76357      8.76357      8.76357\n"
     ]
    }
   ],
   "source": [
    "# 성능지표\n",
    "perf_mat.loc['MSE']['ALL'] = metrics.mean_squared_error(test_y,pred_y_full)\n",
    "perf_mat.loc['MSE']['FORWARD'] = metrics.mean_squared_error(test_y,pred_y_forward)\n",
    "perf_mat.loc['MSE']['BACKWARD'] = metrics.mean_squared_error(test_y,pred_y_backward)\n",
    "perf_mat.loc['MSE']['STEPWISE'] = metrics.mean_squared_error(test_y,pred_y_stepwise)\n",
    "\n",
    "perf_mat.loc['RMSE']['ALL'] = np.sqrt(metrics.mean_squared_error(test_y, pred_y_full))\n",
    "perf_mat.loc['RMSE']['FORWARD'] = np.sqrt(metrics.mean_squared_error(test_y, pred_y_forward))\n",
    "perf_mat.loc['RMSE']['BACKWARD'] = np.sqrt(metrics.mean_squared_error(test_y, pred_y_backward))\n",
    "perf_mat.loc['RMSE']['STEPWISE'] = np.sqrt(metrics.mean_squared_error(test_y, pred_y_stepwise))\n",
    "\n",
    "perf_mat.loc['MAE']['ALL'] = metrics.mean_absolute_error(test_y, pred_y_full)\n",
    "perf_mat.loc['MAE']['FORWARD'] = metrics.mean_absolute_error(test_y, pred_y_forward)\n",
    "perf_mat.loc['MAE']['BACKWARD'] = metrics.mean_absolute_error(test_y, pred_y_backward)\n",
    "perf_mat.loc['MAE']['STEPWISE'] = metrics.mean_absolute_error(test_y, pred_y_stepwise)\n",
    "\n",
    "perf_mat.loc['MAPE']['ALL'] = mean_absolute_percentage_error(test_y, pred_y_full)\n",
    "perf_mat.loc['MAPE']['FORWARD'] = mean_absolute_percentage_error(test_y, pred_y_forward)\n",
    "perf_mat.loc['MAPE']['BACKWARD'] = mean_absolute_percentage_error(test_y, pred_y_backward)\n",
    "perf_mat.loc['MAPE']['STEPWISE'] = mean_absolute_percentage_error(test_y, pred_y_stepwise)\n",
    "\n",
    "print(perf_mat)"
   ]
  },
  {
   "cell_type": "code",
   "execution_count": null,
   "metadata": {
    "collapsed": true
   },
   "outputs": [],
   "source": []
  }
 ],
 "metadata": {
  "anaconda-cloud": {},
  "kernelspec": {
   "display_name": "Python [default]",
   "language": "python",
   "name": "python3"
  },
  "language_info": {
   "codemirror_mode": {
    "name": "ipython",
    "version": 3
   },
   "file_extension": ".py",
   "mimetype": "text/x-python",
   "name": "python",
   "nbconvert_exporter": "python",
   "pygments_lexer": "ipython3",
   "version": "3.5.2"
  },
  "toc": {
   "nav_menu": {},
   "number_sections": true,
   "sideBar": true,
   "skip_h1_title": false,
   "toc_cell": false,
   "toc_position": {
    "height": "1326px",
    "left": "0px",
    "right": "1325.6px",
    "top": "108px",
    "width": "212px"
   },
   "toc_section_display": "block",
   "toc_window_display": true
  },
  "varInspector": {
   "cols": {
    "lenName": 16,
    "lenType": 16,
    "lenVar": 40
   },
   "kernels_config": {
    "python": {
     "delete_cmd_postfix": "",
     "delete_cmd_prefix": "del ",
     "library": "var_list.py",
     "varRefreshCmd": "print(var_dic_list())"
    },
    "r": {
     "delete_cmd_postfix": ") ",
     "delete_cmd_prefix": "rm(",
     "library": "var_list.r",
     "varRefreshCmd": "cat(var_dic_list()) "
    }
   },
   "oldHeight": 402.4,
   "position": {
    "height": "40px",
    "left": "1170px",
    "right": "20px",
    "top": "128px",
    "width": "334px"
   },
   "types_to_exclude": [
    "module",
    "function",
    "builtin_function_or_method",
    "instance",
    "_Feature"
   ],
   "varInspector_section_display": "none",
   "window_display": true
  }
 },
 "nbformat": 4,
 "nbformat_minor": 2
}
